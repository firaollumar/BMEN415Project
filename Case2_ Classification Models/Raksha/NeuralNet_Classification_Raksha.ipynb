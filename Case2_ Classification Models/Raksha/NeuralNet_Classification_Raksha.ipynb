{
  "nbformat": 4,
  "nbformat_minor": 0,
  "metadata": {
    "colab": {
      "name": "NeuralNetClassification (1).ipynb",
      "provenance": [],
      "collapsed_sections": []
    },
    "kernelspec": {
      "name": "python3",
      "display_name": "Python 3"
    },
    "language_info": {
      "name": "python"
    }
  },
  "cells": [
    {
      "cell_type": "code",
      "execution_count": 1,
      "metadata": {
        "id": "v49KlsnH-2Co"
      },
      "outputs": [],
      "source": [
        "import pandas as pd\n",
        "import seaborn as sns \n",
        "import numpy as np\n",
        "import matplotlib.pyplot as plt\n",
        "from sklearn.model_selection import train_test_split \n",
        "import sklearn.metrics\n",
        "from sklearn.neural_network import MLPClassifier\n",
        "from sklearn.preprocessing import StandardScaler\n",
        "from sklearn.tree import DecisionTreeClassifier\n",
        "from sklearn.metrics import accuracy_score, precision_score, recall_score, f1_score\n",
        "import os\n",
        "data = pd.read_csv(\"Scaled_BreastCancer_Data.csv\")"
      ]
    },
    {
      "cell_type": "code",
      "source": [
        "del data[\"Unnamed: 0\"]"
      ],
      "metadata": {
        "id": "kdDQ2wW3u40p"
      },
      "execution_count": 2,
      "outputs": []
    },
    {
      "cell_type": "code",
      "source": [
        "data= data.rename({\"diagnosis\": \"malignant_cancer\"}, axis= \"columns\")\n",
        "X= data.drop([\"Target\"], axis= \"columns\")\n",
        "y= data[\"Target\"]"
      ],
      "metadata": {
        "id": "aFgv2QTRGTyN"
      },
      "execution_count": 3,
      "outputs": []
    },
    {
      "cell_type": "code",
      "source": [
        "X_train, X_test, y_train, y_test = train_test_split(\n",
        "    X, y, test_size= 0.25, random_state= 1)"
      ],
      "metadata": {
        "id": "SYiLtk_OGWoS"
      },
      "execution_count": 4,
      "outputs": []
    },
    {
      "cell_type": "code",
      "source": [
        "scaler= StandardScaler()\n",
        "\n",
        "scaler.fit(X_train)\n",
        "X_train_scaled= scaler.transform(X_train)\n",
        "X_test_scaled= scaler.transform(X_test)"
      ],
      "metadata": {
        "id": "i1sNaJc-GZWn"
      },
      "execution_count": 5,
      "outputs": []
    },
    {
      "cell_type": "code",
      "source": [
        "nn_model = MLPClassifier(hidden_layer_sizes=(100, ), activation='relu', solver='adam', \n",
        "                                                 alpha=0.0001, batch_size='auto', learning_rate='constant', learning_rate_init=0.001, power_t=0.5, \n",
        "                                                 max_iter=1000, shuffle=True, random_state=None, tol=0.0001, verbose=False, warm_start=False, momentum=0.9, \n",
        "                                                 nesterovs_momentum=True, early_stopping=False, validation_fraction=0.1, beta_1=0.9, beta_2=0.999, epsilon=1e-08, \n",
        "                                                 n_iter_no_change=10)\n",
        "\n",
        "nn_model.fit(X_train_scaled, y_train)\n",
        "\n",
        "y_pred= nn_model.predict(X_test_scaled)"
      ],
      "metadata": {
        "id": "ynnatrIhHCAY"
      },
      "execution_count": 6,
      "outputs": []
    },
    {
      "cell_type": "code",
      "source": [
        "from sklearn.metrics import confusion_matrix\n",
        "\n",
        "cm = confusion_matrix(y_test, y_pred)\n",
        "\n",
        "accuracy_score(y_test, y_pred)\n",
        "\n",
        "sns.heatmap(cm, annot=True)"
      ],
      "metadata": {
        "colab": {
          "base_uri": "https://localhost:8080/",
          "height": 282
        },
        "id": "jT4upnw2Hop3",
        "outputId": "04e27f37-5b54-4458-830e-5d90351ec30b"
      },
      "execution_count": 7,
      "outputs": [
        {
          "output_type": "execute_result",
          "data": {
            "text/plain": [
              "<matplotlib.axes._subplots.AxesSubplot at 0x7fe32c1e2e10>"
            ]
          },
          "metadata": {},
          "execution_count": 7
        },
        {
          "output_type": "display_data",
          "data": {
            "text/plain": [
              "<Figure size 432x288 with 2 Axes>"
            ],
            "image/png": "[encoded data removed]"
          },
          "metadata": {
            "needs_background": "light"
          }
        }
      ]
    },
    {
      "cell_type": "code",
      "source": [
        "y_predicted_train = nn_model.predict(X_train)\n",
        "y_predicted_test = nn_model.predict(X_test)"
      ],
      "metadata": {
        "colab": {
          "base_uri": "https://localhost:8080/"
        },
        "id": "LtVlkDoyvNg5",
        "outputId": "333a924e-39b0-4dcc-e91a-7e711f6ead13"
      },
      "execution_count": 8,
      "outputs": [
        {
          "output_type": "stream",
          "name": "stderr",
          "text": [
            "/usr/local/lib/python3.7/dist-packages/sklearn/base.py:444: UserWarning: X has feature names, but MLPClassifier was fitted without feature names\n",
            "  f\"X has feature names, but {self.__class__.__name__} was fitted without\"\n",
            "/usr/local/lib/python3.7/dist-packages/sklearn/base.py:444: UserWarning: X has feature names, but MLPClassifier was fitted without feature names\n",
            "  f\"X has feature names, but {self.__class__.__name__} was fitted without\"\n"
          ]
        }
      ]
    },
    {
      "cell_type": "code",
      "source": [
        "from sklearn.model_selection import cross_val_predict  \n",
        "from sklearn.metrics import accuracy_score \n",
        "\n",
        "\n",
        "accuracy_train = accuracy_score(y_train, y_predicted_train)\n",
        "print(\"Training Accuracy for Neural Net Model: \", accuracy_train*100)\n",
        "\n",
        "accuracy_test = accuracy_score(y_test, y_predicted_test)\n",
        "print(\"Testing Accuracy for Neural Net Model: \", accuracy_test*100)"
      ],
      "metadata": {
        "colab": {
          "base_uri": "https://localhost:8080/"
        },
        "id": "LYlQ-dksvUZ0",
        "outputId": "7033c093-20d3-4aea-9063-a9d6089609b7"
      },
      "execution_count": 9,
      "outputs": [
        {
          "output_type": "stream",
          "name": "stdout",
          "text": [
            "Training Accuracy for Neural Net Model:  100.0\n",
            "Testing Accuracy for Neural Net Model:  97.2027972027972\n"
          ]
        }
      ]
    }
  ]
}