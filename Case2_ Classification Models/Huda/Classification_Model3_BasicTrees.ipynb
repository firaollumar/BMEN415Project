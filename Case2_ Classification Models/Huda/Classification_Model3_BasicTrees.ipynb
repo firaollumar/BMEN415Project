{
  "nbformat": 4,
  "nbformat_minor": 0,
  "metadata": {
    "colab": {
      "name": "Classification_Model3_BasicTrees.ipynb",
      "provenance": []
    },
    "kernelspec": {
      "name": "python3",
      "display_name": "Python 3"
    },
    "language_info": {
      "name": "python"
    }
  },
  "cells": [
    {
      "cell_type": "code",
      "execution_count": 1,
      "metadata": {
        "id": "kc5kQFIhAycv"
      },
      "outputs": [],
      "source": [
        "import numpy as np  # Importing NumPy library\n",
        "import pandas as pd  # Importing Pandas library\n",
        "import matplotlib.pyplot as plt  # Importing Matplotlib library's \"pyplot\" module\n",
        "import seaborn as sns  # Imorting Seaborn library\n",
        "\n",
        "import os"
      ]
    },
    {
      "cell_type": "code",
      "source": [
        "data = pd.read_csv(\"Scaled_BreastCancer_Data.csv\")"
      ],
      "metadata": {
        "id": "iTC7su_WILgA"
      },
      "execution_count": 2,
      "outputs": []
    },
    {
      "cell_type": "code",
      "source": [
        "data = data.drop(['Unnamed: 0'], axis=1) #dropping unnamed coloumn\n",
        "\n",
        "#Selecting x and y from features to predict the Target coloumn\n",
        "X = data.drop([\"Target\"], axis=1)\n",
        "y = data.Target.values"
      ],
      "metadata": {
        "id": "KZ_sGsIMIOpo"
      },
      "execution_count": 3,
      "outputs": []
    },
    {
      "cell_type": "code",
      "source": [
        "from sklearn.ensemble import ExtraTreesRegressor\n",
        "from sklearn.feature_selection import SelectFromModel\n",
        "featsel = ExtraTreesRegressor(n_estimators=50) #can change the number of n_estimators\n",
        "featsel = featsel.fit(X, y)\n",
        "featsel.feature_importances_  \n",
        "model = SelectFromModel(featsel, prefit=True)\n",
        "X_new = model.transform(X)              "
      ],
      "metadata": {
        "colab": {
          "base_uri": "https://localhost:8080/"
        },
        "id": "bCQx5ZJIKYDt",
        "outputId": "56f4e99c-6a74-4357-d939-ddfaab25a599"
      },
      "execution_count": 4,
      "outputs": [
        {
          "output_type": "stream",
          "name": "stderr",
          "text": [
            "/usr/local/lib/python3.7/dist-packages/sklearn/base.py:444: UserWarning: X has feature names, but SelectFromModel was fitted without feature names\n",
            "  f\"X has feature names, but {self.__class__.__name__} was fitted without\"\n"
          ]
        }
      ]
    },
    {
      "cell_type": "code",
      "source": [
        "from sklearn.model_selection import train_test_split \n",
        "\n",
        "#80 20 split for training and testing\n",
        "x_train, x_test, y_train, y_test = train_test_split(X_new, y, test_size=0.2, random_state=1)"
      ],
      "metadata": {
        "id": "hWt9v9CrIQW6"
      },
      "execution_count": 5,
      "outputs": []
    },
    {
      "cell_type": "code",
      "source": [
        "from sklearn import tree\n",
        "from sklearn.tree import DecisionTreeClassifier\n",
        "from sklearn.tree import export_text\n",
        "\n",
        "btree = tree.DecisionTreeClassifier(max_depth = 4, random_state=1)\n",
        "btree = btree.fit(x_train, y_train)"
      ],
      "metadata": {
        "id": "y16xSrt7IkeV"
      },
      "execution_count": 6,
      "outputs": []
    },
    {
      "cell_type": "code",
      "source": [
        "tree.plot_tree(btree)"
      ],
      "metadata": {
        "colab": {
          "base_uri": "https://localhost:8080/",
          "height": 707
        },
        "id": "YGW3vvy93xfd",
        "outputId": "a0a7dc9c-933e-4159-b0fa-1d5e0e82c3cc"
      },
      "execution_count": 7,
      "outputs": [
        {
          "output_type": "execute_result",
          "data": {
            "text/plain": [
              "[Text(0.5208333333333334, 0.9, 'X[5] <= -0.036\\ngini = 0.468\\nsamples = 455\\nvalue = [170, 285]'),\n",
              " Text(0.2708333333333333, 0.7, 'X[7] <= 0.674\\ngini = 0.064\\nsamples = 271\\nvalue = [9, 262]'),\n",
              " Text(0.16666666666666666, 0.5, 'X[7] <= 0.311\\ngini = 0.03\\nsamples = 265\\nvalue = [4, 261]'),\n",
              " Text(0.08333333333333333, 0.3, 'X[3] <= -0.356\\ngini = 0.008\\nsamples = 254\\nvalue = [1, 253]'),\n",
              " Text(0.041666666666666664, 0.1, 'gini = 0.0\\nsamples = 216\\nvalue = [0, 216]'),\n",
              " Text(0.125, 0.1, 'gini = 0.051\\nsamples = 38\\nvalue = [1, 37]'),\n",
              " Text(0.25, 0.3, 'X[6] <= -0.275\\ngini = 0.397\\nsamples = 11\\nvalue = [3, 8]'),\n",
              " Text(0.20833333333333334, 0.1, 'gini = 0.0\\nsamples = 7\\nvalue = [0, 7]'),\n",
              " Text(0.2916666666666667, 0.1, 'gini = 0.375\\nsamples = 4\\nvalue = [3, 1]'),\n",
              " Text(0.375, 0.5, 'X[1] <= -0.248\\ngini = 0.278\\nsamples = 6\\nvalue = [5, 1]'),\n",
              " Text(0.3333333333333333, 0.3, 'gini = 0.0\\nsamples = 4\\nvalue = [4, 0]'),\n",
              " Text(0.4166666666666667, 0.3, 'X[6] <= -0.348\\ngini = 0.5\\nsamples = 2\\nvalue = [1, 1]'),\n",
              " Text(0.375, 0.1, 'gini = 0.0\\nsamples = 1\\nvalue = [0, 1]'),\n",
              " Text(0.4583333333333333, 0.1, 'gini = 0.0\\nsamples = 1\\nvalue = [1, 0]'),\n",
              " Text(0.7708333333333334, 0.7, 'X[2] <= -0.041\\ngini = 0.219\\nsamples = 184\\nvalue = [161, 23]'),\n",
              " Text(0.6666666666666666, 0.5, 'X[6] <= 0.135\\ngini = 0.492\\nsamples = 32\\nvalue = [14, 18]'),\n",
              " Text(0.5833333333333334, 0.3, 'X[1] <= -0.023\\ngini = 0.208\\nsamples = 17\\nvalue = [2, 15]'),\n",
              " Text(0.5416666666666666, 0.1, 'gini = 0.0\\nsamples = 2\\nvalue = [2, 0]'),\n",
              " Text(0.625, 0.1, 'gini = 0.0\\nsamples = 15\\nvalue = [0, 15]'),\n",
              " Text(0.75, 0.3, 'X[7] <= -0.291\\ngini = 0.32\\nsamples = 15\\nvalue = [12, 3]'),\n",
              " Text(0.7083333333333334, 0.1, 'gini = 0.5\\nsamples = 6\\nvalue = [3, 3]'),\n",
              " Text(0.7916666666666666, 0.1, 'gini = 0.0\\nsamples = 9\\nvalue = [9, 0]'),\n",
              " Text(0.875, 0.5, 'X[3] <= -0.181\\ngini = 0.064\\nsamples = 152\\nvalue = [147, 5]'),\n",
              " Text(0.8333333333333334, 0.3, 'gini = 0.0\\nsamples = 2\\nvalue = [0, 2]'),\n",
              " Text(0.9166666666666666, 0.3, 'X[6] <= -0.027\\ngini = 0.039\\nsamples = 150\\nvalue = [147, 3]'),\n",
              " Text(0.875, 0.1, 'gini = 0.291\\nsamples = 17\\nvalue = [14, 3]'),\n",
              " Text(0.9583333333333334, 0.1, 'gini = 0.0\\nsamples = 133\\nvalue = [133, 0]')]"
            ]
          },
          "metadata": {},
          "execution_count": 7
        },
        {
          "output_type": "display_data",
          "data": {
            "text/plain": [
              "<Figure size 432x288 with 1 Axes>"
            ],
            "image/png": "[encoded data removed]"
          },
          "metadata": {
            "needs_background": "light"
          }
        }
      ]
    },
    {
      "cell_type": "code",
      "source": [
        "#score for the training set\n",
        "train = btree.score(x_train, y_train)\n",
        "print(\"Training Accuracy Score for Basic Trees Model:\", train*100)\n",
        "\n",
        "accuracy = btree.score(x_test, y_test)\n",
        "print(\"Testing Accuracy Score for Basic Trees Model:\", accuracy*100)"
      ],
      "metadata": {
        "colab": {
          "base_uri": "https://localhost:8080/"
        },
        "id": "tms42WSyP8ZM",
        "outputId": "9b5bffa8-a2ca-49cd-abea-ee2e8b44a2f8"
      },
      "execution_count": 8,
      "outputs": [
        {
          "output_type": "stream",
          "name": "stdout",
          "text": [
            "Training Accuracy Score for Basic Trees Model: 98.24175824175823\n",
            "Testing Accuracy Score for Basic Trees Model: 93.85964912280701\n"
          ]
        }
      ]
    },
    {
      "cell_type": "code",
      "source": [
        "from sklearn.metrics import r2_score  # For find accuracy with R2 Score\n",
        "from sklearn.metrics import mean_squared_error  # For MSE\n",
        "from math import sqrt  # For squareroot operation\n",
        "from sklearn.metrics import confusion_matrix\n",
        "\n",
        "y_pred_train = btree.predict(x_train)\n",
        "y_pred_test = btree.predict(x_test)\n",
        "\n",
        "cm = confusion_matrix(y_test, y_pred_test)\n",
        "sns.heatmap(cm, annot=True)"
      ],
      "metadata": {
        "colab": {
          "base_uri": "https://localhost:8080/",
          "height": 286
        },
        "id": "IaDgliPrITyW",
        "outputId": "cd104cb0-790f-4845-c089-7560f0c3046e"
      },
      "execution_count": 9,
      "outputs": [
        {
          "output_type": "execute_result",
          "data": {
            "text/plain": [
              "<matplotlib.axes._subplots.AxesSubplot at 0x7fdea6e7b210>"
            ]
          },
          "metadata": {},
          "execution_count": 9
        },
        {
          "output_type": "display_data",
          "data": {
            "text/plain": [
              "<Figure size 432x288 with 2 Axes>"
            ],
            "image/png": "[encoded data removed]"
          },
          "metadata": {
            "needs_background": "light"
          }
        }
      ]
    },
    {
      "cell_type": "code",
      "source": [
        "n_classes = 2 # Benign or Malignant\n",
        "\n",
        "y_test_list = y_test.tolist()\n",
        "\n",
        "\n",
        "from sklearn.metrics import roc_curve, auc\n",
        "\n",
        "# Compute ROC curve and ROC area for each class\n",
        "fpr = dict()\n",
        "tpr = dict()\n",
        "roc_auc = dict()\n",
        "for i in range(n_classes):\n",
        "    fpr[i], tpr[i], _ = roc_curve(y_test, y_pred_test)\n",
        "    roc_auc[i] = auc(fpr[i], tpr[i])\n",
        "\n",
        "# Compute micro-average ROC curve and ROC area\n",
        "fpr[\"micro\"], tpr[\"micro\"], _ = roc_curve(y_test.ravel(), y_pred_test.ravel())\n",
        "roc_auc[\"micro\"] = auc(fpr[\"micro\"], tpr[\"micro\"])"
      ],
      "metadata": {
        "id": "szAxXsWpk55M"
      },
      "execution_count": 10,
      "outputs": []
    },
    {
      "cell_type": "code",
      "source": [
        "plt.figure()\n",
        "lw = 2\n",
        "plt.plot(\n",
        "    fpr[\"micro\"],\n",
        "    tpr[\"micro\"],\n",
        "    color=\"darkorange\",\n",
        "    lw=lw,\n",
        "    label=\"ROC curve (area = %0.2f)\" % roc_auc[\"micro\"],\n",
        ")"
      ],
      "metadata": {
        "colab": {
          "base_uri": "https://localhost:8080/",
          "height": 282
        },
        "id": "_QjghGnHk7eW",
        "outputId": "ff5f2e18-68be-4efb-dd4b-89b9e75bf2a2"
      },
      "execution_count": 11,
      "outputs": [
        {
          "output_type": "execute_result",
          "data": {
            "text/plain": [
              "[<matplotlib.lines.Line2D at 0x7fde92f78990>]"
            ]
          },
          "metadata": {},
          "execution_count": 11
        },
        {
          "output_type": "display_data",
          "data": {
            "text/plain": [
              "<Figure size 432x288 with 1 Axes>"
            ],
            "image/png": "[encoded data removed]"
          },
          "metadata": {
            "needs_background": "light"
          }
        }
      ]
    }
  ]
}