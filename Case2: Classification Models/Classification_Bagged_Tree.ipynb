{
 "cells": [
  {
   "cell_type": "code",
   "execution_count": 14,
   "metadata": {
    "id": "xy84xDtfQ1t8"
   },
   "outputs": [],
   "source": [
    "import pandas as pd #Importing pandas library\n",
    "import numpy as np #Importing numpy library\n",
    "import matplotlib.pyplot as plt #Importing Matplotlib library's \"pyplot\"\n",
    "import seaborn as sns  # Imorting Seaborn library\n",
    "import os\n",
    "\n",
    "data = pd.read_csv(\"breast-cancer.csv\")"
   ]
  },
  {
   "cell_type": "code",
   "execution_count": 15,
   "metadata": {
    "colab": {
     "base_uri": "https://localhost:8080/"
    },
    "id": "wRVTPwFZRB69",
    "outputId": "5ed298c7-ee4f-43bc-9883-89e02d7f73fb"
   },
   "outputs": [],
   "source": [
    "#Changing diagnosis to 0 and 1\n",
    "data['diagnosis'] = data['diagnosis'].map({'M': 0, 'B': 1}).astype(float)\n",
    "#Selecting x and y from features\n",
    "X = data.drop([\"diagnosis\"], axis=1) \n",
    "y = data.diagnosis.values"
   ]
  },
  {
   "cell_type": "code",
   "execution_count": 16,
   "metadata": {
    "id": "_8zxv5ddREQx"
   },
   "outputs": [
    {
     "data": {
      "text/plain": [
       "(569, 10)"
      ]
     },
     "execution_count": 16,
     "metadata": {},
     "output_type": "execute_result"
    }
   ],
   "source": [
    "#Feature selection \n",
    "from sklearn.ensemble import ExtraTreesClassifier\n",
    "from sklearn.feature_selection import SelectFromModel\n",
    "X.shape\n",
    "featsel = ExtraTreesClassifier(n_estimators=25) #might need to change this number\n",
    "featsel = featsel.fit(X, y)\n",
    "featsel.feature_importances_  \n",
    "model = SelectFromModel(featsel, prefit=True)\n",
    "X_new = model.transform(X)\n",
    "X_new.shape   "
   ]
  },
  {
   "cell_type": "code",
   "execution_count": 17,
   "metadata": {
    "colab": {
     "base_uri": "https://localhost:8080/"
    },
    "id": "OopyZrU2RoL0",
    "outputId": "cfc3acdc-949c-4f21-e719-9f0667652b5b"
   },
   "outputs": [],
   "source": [
    "#Splitting the data for training and testing\n",
    "from sklearn.model_selection import train_test_split \n",
    "x_train, x_test, y_train, y_test = train_test_split(X_new, y, test_size=0.2, random_state=1)"
   ]
  },
  {
   "cell_type": "code",
   "execution_count": 18,
   "metadata": {
    "id": "0xTaoWi1R5L7"
   },
   "outputs": [],
   "source": [
    "from sklearn.svm import SVC\n",
    "from sklearn.ensemble import BaggingClassifier\n",
    "from sklearn.datasets import make_classification\n",
    "\n",
    "bagt = BaggingClassifier(n_estimators=30, max_samples=30, random_state=0).fit(x_train, y_train)\n",
    "# when you change the n_estimators and max samples, it changes the accuracy\n",
    "y_pred=bagt.predict(x_test)"
   ]
  },
  {
   "cell_type": "code",
   "execution_count": 19,
   "metadata": {
    "id": "yYtXiWbERHyG"
   },
   "outputs": [
    {
     "data": {
      "text/plain": [
       "0.9035087719298246"
      ]
     },
     "execution_count": 19,
     "metadata": {},
     "output_type": "execute_result"
    }
   ],
   "source": [
    "bagt.score(x_test, y_test)"
   ]
  },
  {
   "cell_type": "code",
   "execution_count": 20,
   "metadata": {
    "colab": {
     "base_uri": "https://localhost:8080/"
    },
    "id": "hvV0fPM4SQFq",
    "outputId": "8b666f99-22e9-43f0-ea6b-bced3dcc596a"
   },
   "outputs": [
    {
     "data": {
      "text/plain": [
       "<AxesSubplot:>"
      ]
     },
     "execution_count": 20,
     "metadata": {},
     "output_type": "execute_result"
    },
    {
     "data": {
      "image/png": "[encoded data removed]",
      "text/plain": [
       "<Figure size 432x288 with 2 Axes>"
      ]
     },
     "metadata": {
      "needs_background": "light"
     },
     "output_type": "display_data"
    }
   ],
   "source": [
    "from sklearn.metrics import confusion_matrix\n",
    "from sklearn.metrics import accuracy_score\n",
    "\n",
    "cm = confusion_matrix(y_test, y_pred)\n",
    "\n",
    "accuracy_score(y_test, y_pred)\n",
    "\n",
    "sns.heatmap(cm, annot=True)"
   ]
  },
  {
   "cell_type": "code",
   "execution_count": null,
   "metadata": {},
   "outputs": [],
   "source": []
  },
  {
   "cell_type": "code",
   "execution_count": null,
   "metadata": {},
   "outputs": [],
   "source": []
  }
 ],
 "metadata": {
  "colab": {
   "name": "Classification - Bagged Tree.ipynb",
   "provenance": []
  },
  "kernelspec": {
   "display_name": "Python 3",
   "language": "python",
   "name": "python3"
  },
  "language_info": {
   "codemirror_mode": {
    "name": "ipython",
    "version": 3
   },
   "file_extension": ".py",
   "mimetype": "text/x-python",
   "name": "python",
   "nbconvert_exporter": "python",
   "pygments_lexer": "ipython3",
   "version": "3.8.5"
  }
 },
 "nbformat": 4,
 "nbformat_minor": 1
}
