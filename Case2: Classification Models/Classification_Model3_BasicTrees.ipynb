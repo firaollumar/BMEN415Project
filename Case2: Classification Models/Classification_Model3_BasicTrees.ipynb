{
  "nbformat": 4,
  "nbformat_minor": 0,
  "metadata": {
    "colab": {
      "name": "Classification_Model3_BasicTrees.ipynb",
      "provenance": []
    },
    "kernelspec": {
      "name": "python3",
      "display_name": "Python 3"
    },
    "language_info": {
      "name": "python"
    }
  },
  "cells": [
    {
      "cell_type": "code",
      "execution_count": 32,
      "metadata": {
        "id": "kc5kQFIhAycv"
      },
      "outputs": [],
      "source": [
        "import numpy as np  # Importing NumPy library\n",
        "import pandas as pd  # Importing Pandas library\n",
        "import matplotlib.pyplot as plt  # Importing Matplotlib library's \"pyplot\" module\n",
        "import seaborn as sns  # Imorting Seaborn library\n",
        "\n",
        "import os"
      ]
    },
    {
      "cell_type": "code",
      "source": [
        "data = pd.read_csv(\"breast-cancer.csv\")"
      ],
      "metadata": {
        "id": "iTC7su_WILgA"
      },
      "execution_count": 33,
      "outputs": []
    },
    {
      "cell_type": "code",
      "source": [
        "data['diagnosis'] = data['diagnosis'].map({'M': 0, 'B': 1}).astype(float)\n",
        "X = data.drop([\"diagnosis\"], axis=1) \n",
        "y = data.diagnosis.values"
      ],
      "metadata": {
        "id": "KZ_sGsIMIOpo"
      },
      "execution_count": 34,
      "outputs": []
    },
    {
      "cell_type": "code",
      "source": [
        "from sklearn.ensemble import ExtraTreesRegressor\n",
        "from sklearn.feature_selection import SelectFromModel\n",
        "X.shape\n",
        "featsel = ExtraTreesRegressor(n_estimators=50) #might need to change this number\n",
        "featsel = featsel.fit(X, y)\n",
        "featsel.feature_importances_  \n",
        "model = SelectFromModel(featsel, prefit=True)\n",
        "X_new = model.transform(X)\n",
        "X_new.shape               "
      ],
      "metadata": {
        "colab": {
          "base_uri": "https://localhost:8080/"
        },
        "id": "bCQx5ZJIKYDt",
        "outputId": "95d41e07-84ab-490f-d0f4-56676ec3c4e6"
      },
      "execution_count": 35,
      "outputs": [
        {
          "output_type": "stream",
          "name": "stderr",
          "text": [
            "/usr/local/lib/python3.7/dist-packages/sklearn/base.py:444: UserWarning: X has feature names, but SelectFromModel was fitted without feature names\n",
            "  f\"X has feature names, but {self.__class__.__name__} was fitted without\"\n"
          ]
        },
        {
          "output_type": "execute_result",
          "data": {
            "text/plain": [
              "(569, 9)"
            ]
          },
          "metadata": {},
          "execution_count": 35
        }
      ]
    },
    {
      "cell_type": "code",
      "source": [
        "from sklearn.model_selection import train_test_split \n",
        "\n",
        "x_train, x_test, y_train, y_test = train_test_split(X_new, y, test_size=0.2, random_state=1)"
      ],
      "metadata": {
        "id": "hWt9v9CrIQW6"
      },
      "execution_count": 36,
      "outputs": []
    },
    {
      "cell_type": "code",
      "source": [
        "from sklearn import tree\n",
        "from sklearn.tree import DecisionTreeClassifier\n",
        "\n",
        "btree = tree.DecisionTreeClassifier()\n",
        "\n",
        "btree = btree.fit(x_train, y_train)"
      ],
      "metadata": {
        "id": "y16xSrt7IkeV"
      },
      "execution_count": 37,
      "outputs": []
    },
    {
      "cell_type": "code",
      "source": [
        "accuracy = btree.score(x_test, y_test)\n",
        "print(\"Score for Basic Trees Model: \\n\", accuracy )"
      ],
      "metadata": {
        "colab": {
          "base_uri": "https://localhost:8080/"
        },
        "id": "tms42WSyP8ZM",
        "outputId": "a4569170-0b27-4e75-d7a5-5831fbe2db2a"
      },
      "execution_count": 38,
      "outputs": [
        {
          "output_type": "stream",
          "name": "stdout",
          "text": [
            "Score for Basic Trees Model: \n",
            " 0.9649122807017544\n"
          ]
        }
      ]
    },
    {
      "cell_type": "code",
      "source": [
        "from sklearn.metrics import r2_score  # For find accuracy with R2 Score\n",
        "from sklearn.metrics import mean_squared_error  # For MSE\n",
        "from math import sqrt  # For squareroot operation\n",
        "from sklearn.metrics import confusion_matrix\n",
        "\n",
        "tree.plot_tree(btree)\n",
        "\n",
        "y_pred_train = btree.predict(x_train)\n",
        "y_pred_test = btree.predict(x_test)\n",
        "\n",
        "# accuracy_train = r2_score(y_train, y_pred_train)\n",
        "# print(\"Training Accuracy for Basic Trees Model: \", accuracy_train)\n",
        "\n",
        "# accuracy_test = r2_score(y_test, y_pred_test)\n",
        "# print(\"Testing Accuracy for Basic Trees Model: \", accuracy_test)\n",
        "\n",
        "# RMSE_train = sqrt(mean_squared_error(y_train, y_pred_train))\n",
        "# print(\"RMSE for Training Data: \", RMSE_train)\n",
        "\n",
        "# RMSE_test = sqrt(mean_squared_error(y_test, y_pred_test))\n",
        "# print(\"RMSE for Testing Data: \", RMSE_test)*/\n",
        "\n",
        "cm = confusion_matrix(y_test, y_pred_test)\n",
        "print(\"Confusion Matrix: \\n\", cm )"
      ],
      "metadata": {
        "colab": {
          "base_uri": "https://localhost:8080/",
          "height": 299
        },
        "id": "IaDgliPrITyW",
        "outputId": "0a2aef9f-a008-4e11-96e8-153992f7a515"
      },
      "execution_count": 39,
      "outputs": [
        {
          "output_type": "stream",
          "name": "stdout",
          "text": [
            "Confusion Matrix: \n",
            " [[38  4]\n",
            " [ 0 72]]\n"
          ]
        },
        {
          "output_type": "display_data",
          "data": {
            "text/plain": [
              "<Figure size 432x288 with 1 Axes>"
            ],
            "image/png": "[encoded data removed]"
          },
          "metadata": {
            "needs_background": "light"
          }
        }
      ]
    }
  ]
}