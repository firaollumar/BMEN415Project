{
  "nbformat": 4,
  "nbformat_minor": 0,
  "metadata": {
    "colab": {
      "name": "Classification_Model2_NeuralNet.ipynb",
      "provenance": []
    },
    "kernelspec": {
      "name": "python3",
      "display_name": "Python 3"
    },
    "language_info": {
      "name": "python"
    }
  },
  "cells": [
    {
      "cell_type": "code",
      "execution_count": 2,
      "metadata": {
        "id": "5He0yLdFATYM"
      },
      "outputs": [],
      "source": [
        "import numpy as np  # Importing NumPy library\n",
        "import pandas as pd  # Importing Pandas library\n",
        "import matplotlib.pyplot as plt  # Importing Matplotlib library's \"pyplot\" module\n",
        "import seaborn as sns  # Imorting Seaborn library\n",
        "\n",
        "import os"
      ]
    },
    {
      "cell_type": "code",
      "source": [
        "data = pd.read_csv(\"breast-cancer.csv\")"
      ],
      "metadata": {
        "id": "I-1A7wtqFvxe"
      },
      "execution_count": 3,
      "outputs": []
    },
    {
      "cell_type": "code",
      "source": [
        "data['diagnosis'] = data['diagnosis'].map({'M': 0, 'B': 1}).astype(float)\n",
        "X = data.drop([\"diagnosis\"], axis=1) \n",
        "y = data.diagnosis.values"
      ],
      "metadata": {
        "id": "4sosdTYeFxQT"
      },
      "execution_count": 4,
      "outputs": []
    },
    {
      "cell_type": "code",
      "source": [
        "from sklearn.model_selection import train_test_split \n",
        "\n",
        "x_train, x_test, y_train, y_test = train_test_split(X, y, test_size=0.2, random_state=1)"
      ],
      "metadata": {
        "id": "2kdBq6vsFy3a"
      },
      "execution_count": 5,
      "outputs": []
    },
    {
      "cell_type": "code",
      "source": [
        "from sklearn import neural_network\n",
        "from sklearn.neural_network import MLPClassifier\n",
        "\n",
        "#Initializing the MLPClassifier\n",
        "nn = MLPClassifier(hidden_layer_sizes=(150,100,50), max_iter=300,activation = 'relu',solver='adam',random_state=1)\n",
        "nn.fit(x_train, y_train)"
      ],
      "metadata": {
        "colab": {
          "base_uri": "https://localhost:8080/"
        },
        "id": "MBoIKFlUFzVA",
        "outputId": "0a27519c-6057-4684-eb5d-387ad2d5bfa4"
      },
      "execution_count": 6,
      "outputs": [
        {
          "output_type": "execute_result",
          "data": {
            "text/plain": [
              "MLPClassifier(hidden_layer_sizes=(150, 100, 50), max_iter=300, random_state=1)"
            ]
          },
          "metadata": {},
          "execution_count": 6
        }
      ]
    },
    {
      "cell_type": "code",
      "source": [
        "accuracy = nn.score(x_test, y_test)\n",
        "print(\"Score for Neural Net Model: \\n\", accuracy )"
      ],
      "metadata": {
        "colab": {
          "base_uri": "https://localhost:8080/"
        },
        "id": "vJU8-L8FGawm",
        "outputId": "329402e2-cffc-48bf-e2da-53b0276c0f00"
      },
      "execution_count": 7,
      "outputs": [
        {
          "output_type": "stream",
          "name": "stdout",
          "text": [
            "Score for Neural Net Model: \n",
            " 0.631578947368421\n"
          ]
        }
      ]
    },
    {
      "cell_type": "code",
      "source": [
        "from sklearn.metrics import r2_score  # For find accuracy with R2 Score\n",
        "from sklearn.metrics import mean_squared_error  # For MSE\n",
        "from math import sqrt  # For squareroot operation\n",
        "from sklearn.metrics import confusion_matrix\n",
        "\n",
        "y_pred_train = nn.predict(x_train)\n",
        "y_pred_test = nn.predict(x_test)\n",
        "\n",
        "# accuracy_train = r2_score(y_train, y_pred_train)\n",
        "# print(\"Training Accuracy for Neural Net Model: \", accuracy_train)\n",
        "\n",
        "# accuracy_test = r2_score(y_test, y_pred_test)\n",
        "# print(\"Testing Accuracy for Neural Net Model: \", accuracy_test)\n",
        "\n",
        "# RMSE_train = sqrt(mean_squared_error(y_train, y_pred_train))\n",
        "# print(\"RMSE for Training Data: \", RMSE_train)\n",
        "\n",
        "# RMSE_test = sqrt(mean_squared_error(y_test, y_pred_test))\n",
        "# print(\"RMSE for Testing Data: \", RMSE_test)\n",
        "\n",
        "cm = confusion_matrix(y_test, y_pred_test)\n",
        "print(\"Confusion Matrix: \\n\", cm )"
      ],
      "metadata": {
        "colab": {
          "base_uri": "https://localhost:8080/"
        },
        "id": "eARQPswpGjmz",
        "outputId": "b53a2a41-804f-4588-bdf0-666474b51558"
      },
      "execution_count": 8,
      "outputs": [
        {
          "output_type": "stream",
          "name": "stdout",
          "text": [
            "Confusion Matrix: \n",
            " [[ 0 42]\n",
            " [ 0 72]]\n"
          ]
        }
      ]
    }
  ]
}