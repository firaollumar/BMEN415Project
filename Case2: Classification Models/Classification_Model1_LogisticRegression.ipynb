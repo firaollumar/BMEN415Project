{
  "nbformat": 4,
  "nbformat_minor": 0,
  "metadata": {
    "colab": {
      "name": "Classification_Model1_LogisticRegression.ipynb",
      "provenance": []
    },
    "kernelspec": {
      "name": "python3",
      "display_name": "Python 3"
    },
    "language_info": {
      "name": "python"
    }
  },
  "cells": [
    {
      "cell_type": "code",
      "execution_count": 14,
      "metadata": {
        "id": "1YtTi86WAlRE"
      },
      "outputs": [],
      "source": [
        "import numpy as np  # Importing NumPy library\n",
        "import pandas as pd  # Importing Pandas library\n",
        "import matplotlib.pyplot as plt  # Importing Matplotlib library's \"pyplot\" module\n",
        "import seaborn as sns  # Imorting Seaborn library\n",
        "\n",
        "import os"
      ]
    },
    {
      "cell_type": "code",
      "source": [
        "data = pd.read_csv(\"breast-cancer.csv\")"
      ],
      "metadata": {
        "id": "C0vr-i-rBSPx"
      },
      "execution_count": 15,
      "outputs": []
    },
    {
      "cell_type": "code",
      "source": [
        "data['diagnosis'] = data['diagnosis'].map({'M': 0, 'B': 1}).astype(float)\n",
        "X = data.drop([\"diagnosis\"], axis=1) \n",
        "y = data.diagnosis.values"
      ],
      "metadata": {
        "id": "igFWT4lTBUg4"
      },
      "execution_count": 16,
      "outputs": []
    },
    {
      "cell_type": "code",
      "source": [
        "from sklearn.model_selection import train_test_split \n",
        "\n",
        "x_train, x_test, y_train, y_test = train_test_split(X, y, test_size=0.2, random_state=1)"
      ],
      "metadata": {
        "id": "sW-8-KoKBj6o"
      },
      "execution_count": 17,
      "outputs": []
    },
    {
      "cell_type": "code",
      "source": [
        "from sklearn.linear_model import LogisticRegression\n",
        "\n",
        "# all parameters not specified are set to their defaults\n",
        "logisticRegr = LogisticRegression()\n",
        "logisticRegr.fit(x_train, y_train)\n",
        "\n",
        "accuracy = logisticRegr.score(x_test, y_test)\n",
        "print(\"Score for Logistic Regression Model: \\n\", accuracy )"
      ],
      "metadata": {
        "colab": {
          "base_uri": "https://localhost:8080/"
        },
        "id": "kDzZTHjgBlsF",
        "outputId": "fb7418d8-9380-4bbd-cb7a-84679c67fb7f"
      },
      "execution_count": 18,
      "outputs": [
        {
          "output_type": "stream",
          "name": "stdout",
          "text": [
            "Score for Logistic Regression Model: \n",
            " 0.631578947368421\n"
          ]
        }
      ]
    },
    {
      "cell_type": "code",
      "source": [
        "from sklearn.model_selection import cross_val_predict  # For K-Fold Cross Validation\n",
        "from math import sqrt  # For squareroot operation\n",
        "from sklearn.metrics import mean_squared_error  # For MSE\n",
        "from sklearn.metrics import r2_score  # For find accuracy with R2 Score\n",
        "from sklearn.metrics import confusion_matrix\n",
        "\n",
        "y_pred_LR_train = logisticRegr.predict(x_train)\n",
        "y_pred_LR_test = logisticRegr.predict(x_test)\n",
        "\n",
        "# r2_LR_train = r2_score(y_train, y_pred_LR_train)\n",
        "# print(\"Training Accuracy for Logistic Regression Model: \", r2_LR_train)\n",
        "\n",
        "# r2_LR_test = r2_score(y_test, y_pred_LR_test)\n",
        "# print(\"Testing Accuracy for Logistic Regression Model: \", r2_LR_test)\n",
        "\n",
        "# RMSE_LR_train = sqrt(mean_squared_error(y_train, y_pred_LR_train))\n",
        "# print(\"RMSE for Training Data: \", RMSE_LR_train)\n",
        "\n",
        "# RMSE_LR_test = sqrt(mean_squared_error(y_test, y_pred_LR_test))\n",
        "# print(\"RMSE for Testing Data: \", RMSE_LR_test)\n",
        "\n",
        "cm = confusion_matrix(y_test, y_pred_LR_test)\n",
        "print(\"Confusion Matrix: \\n\", cm )"
      ],
      "metadata": {
        "colab": {
          "base_uri": "https://localhost:8080/"
        },
        "id": "TiN6Tjf2BnWx",
        "outputId": "5c1ed63d-aeae-4481-9a24-42a4ac75b52d"
      },
      "execution_count": 19,
      "outputs": [
        {
          "output_type": "stream",
          "name": "stdout",
          "text": [
            "Confusion Matrix: \n",
            " [[ 0 42]\n",
            " [ 0 72]]\n"
          ]
        }
      ]
    }
  ]
}