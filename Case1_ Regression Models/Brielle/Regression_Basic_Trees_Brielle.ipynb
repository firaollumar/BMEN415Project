{
 "cells": [
  {
   "cell_type": "markdown",
   "metadata": {},
   "source": [
    "## Basic Tree for Regression (Brielle)"
   ]
  },
  {
   "cell_type": "code",
   "execution_count": 1,
   "metadata": {
    "id": "CD6xWlzfGI4r"
   },
   "outputs": [],
   "source": [
    "import pandas as pd #Importing pandas library\n",
    "import numpy as np #Importing numpy library\n",
    "import matplotlib.pyplot as plt #Importing Matplotlib library's \"pyplot\"\n",
    "import seaborn as sns  # Imorting Seaborn library\n",
    "import os"
   ]
  },
  {
   "cell_type": "code",
   "execution_count": 2,
   "metadata": {
    "id": "L45cyUKXGVY5"
   },
   "outputs": [],
   "source": [
    "data = pd.read_csv(\"parkinsons_updrs.data.csv\")\n",
    "data.drop([\"motor_UPDRS\"], axis=1, inplace=True)\n",
    "data.drop('subject#', axis=1, inplace=True) # Remove Subject Num"
   ]
  },
  {
   "cell_type": "code",
   "execution_count": 3,
   "metadata": {
    "id": "Y9o_PKjJGtft"
   },
   "outputs": [],
   "source": [
    "#assigning features to x and target to y\n",
    "X = data.drop([\"total_UPDRS\"], axis=1) \n",
    "y = data.total_UPDRS.values"
   ]
  },
  {
   "cell_type": "code",
   "execution_count": 4,
   "metadata": {
    "id": "CqVWFGTDGyOK"
   },
   "outputs": [],
   "source": [
    "#splitting data for training and testing\n",
    "from sklearn.model_selection import train_test_split \n",
    "x_train, x_test, y_train, y_test = train_test_split(X, y, test_size=0.2, random_state=0)"
   ]
  },
  {
   "cell_type": "code",
   "execution_count": 5,
   "metadata": {
    "colab": {
     "base_uri": "https://localhost:8080/",
     "height": 263
    },
    "id": "tpJqVpNVHEjU",
    "outputId": "def59109-a4cd-44df-db21-18e65877a718"
   },
   "outputs": [
    {
     "data": {
      "text/plain": [
       "array([37.636, 54.232, 26.443, ..., 43.104, 39.136, 27.44 ])"
      ]
     },
     "execution_count": 5,
     "metadata": {},
     "output_type": "execute_result"
    }
   ],
   "source": [
    "#implementing basic tree/CART model\n",
    "from sklearn import tree\n",
    "from sklearn.tree import DecisionTreeRegressor\n",
    "\n",
    "btree = tree.DecisionTreeRegressor()\n",
    "btree = btree.fit(x_train, y_train)\n",
    "\n",
    "#tree.plot_tree(btree)\n",
    "btree.predict(x_test)\n"
   ]
  },
  {
   "cell_type": "code",
   "execution_count": 6,
   "metadata": {
    "colab": {
     "base_uri": "https://localhost:8080/"
    },
    "id": "KeZMBBP9XcuP",
    "outputId": "4ae75fd9-12e3-4b95-bbbf-25daa51002be"
   },
   "outputs": [
    {
     "data": {
      "text/plain": [
       "0.9055264274759314"
      ]
     },
     "execution_count": 6,
     "metadata": {},
     "output_type": "execute_result"
    }
   ],
   "source": [
    "btree.score(x_test, y_test)"
   ]
  },
  {
   "cell_type": "code",
   "execution_count": 7,
   "metadata": {
    "colab": {
     "base_uri": "https://localhost:8080/"
    },
    "id": "8nbnA2grYajk",
    "outputId": "b7ec1407-3d37-4d44-df2d-9642af440ba6"
   },
   "outputs": [
    {
     "name": "stdout",
     "output_type": "stream",
     "text": [
      "Training Accuracy for Basic Tree:  1.0\n",
      "Testing Accuracy for Multiple Basic Tree:  0.9055264274759314\n",
      "RMSE for Training Data:  1.2587436276993388e-15\n",
      "RMSE for Testing Data:  3.245060267901799\n"
     ]
    }
   ],
   "source": [
    "#performance metrics\n",
    "from sklearn.metrics import r2_score  # For find accuracy with R2 Score\n",
    "from sklearn.metrics import mean_squared_error  # For MSE\n",
    "from math import sqrt  # For squareroot operation\n",
    "\n",
    "y_pred_train = btree.predict(x_train)\n",
    "y_pred_test = btree.predict(x_test)\n",
    "\n",
    "accuracy_train = r2_score(y_train, y_pred_train)\n",
    "print(\"Training Accuracy for Basic Tree: \", accuracy_train)\n",
    "\n",
    "accuracy_test = r2_score(y_test, y_pred_test)\n",
    "print(\"Testing Accuracy for Multiple Basic Tree: \", accuracy_test)\n",
    "\n",
    "RMSE_train = sqrt(mean_squared_error(y_train, y_pred_train))\n",
    "print(\"RMSE for Training Data: \", RMSE_train)\n",
    "\n",
    "RMSE_test = sqrt(mean_squared_error(y_test, y_pred_test))\n",
    "print(\"RMSE for Testing Data: \", RMSE_test)"
   ]
  },
  {
   "cell_type": "code",
   "execution_count": 8,
   "metadata": {},
   "outputs": [],
   "source": [
    "true_val = y_train\n",
    "pred_val = y_pred_train"
   ]
  },
  {
   "cell_type": "code",
   "execution_count": 9,
   "metadata": {},
   "outputs": [
    {
     "data": {
      "image/png": "[encoded data removed]",
      "text/plain": [
       "<Figure size 576x576 with 1 Axes>"
      ]
     },
     "metadata": {
      "needs_background": "light"
     },
     "output_type": "display_data"
    }
   ],
   "source": [
    "#Scatter Plot\n",
    "plt.figure(figsize=(8,8))\n",
    "plt.scatter(true_val, pred_val, c='crimson')\n",
    "plt.yscale('log')\n",
    "plt.xscale('log')\n",
    "\n",
    "p1 = max(max(pred_val), max(true_val))\n",
    "p2 = min(min(pred_val), min(true_val))\n",
    "plt.plot([p1, p2], [p1, p2], 'b-')\n",
    "plt.xlabel('True Values', fontsize=15)\n",
    "plt.ylabel('Predicted Values', fontsize=15)\n",
    "plt.title(\"Basic Trees True Values vs Predicted Values\")\n",
    "plt.axis('equal')\n",
    "plt.show()"
   ]
  }
 ],
 "metadata": {
  "colab": {
   "collapsed_sections": [],
   "name": "Regression - Basic Trees.ipynb",
   "provenance": []
  },
  "kernelspec": {
   "display_name": "Python 3",
   "language": "python",
   "name": "python3"
  },
  "language_info": {
   "codemirror_mode": {
    "name": "ipython",
    "version": 3
   },
   "file_extension": ".py",
   "mimetype": "text/x-python",
   "name": "python",
   "nbconvert_exporter": "python",
   "pygments_lexer": "ipython3",
   "version": "3.8.5"
  }
 },
 "nbformat": 4,
 "nbformat_minor": 1
}
