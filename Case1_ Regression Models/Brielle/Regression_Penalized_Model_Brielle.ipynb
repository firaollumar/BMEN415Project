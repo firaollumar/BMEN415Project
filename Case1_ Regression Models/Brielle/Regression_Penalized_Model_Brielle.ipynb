{
 "cells": [
  {
   "cell_type": "markdown",
   "metadata": {},
   "source": [
    "## Penalized Model for Regression (Brielle)"
   ]
  },
  {
   "cell_type": "code",
   "execution_count": 1,
   "metadata": {
    "id": "IrcLkg8JozA2"
   },
   "outputs": [],
   "source": [
    "import pandas as pd #Importing pandas library\n",
    "import numpy as np #Importing numpy library\n",
    "import matplotlib.pyplot as plt #Importing Matplotlib library's \"pyplot\"\n",
    "import seaborn as sns  # Imorting Seaborn library\n",
    "import os"
   ]
  },
  {
   "cell_type": "code",
   "execution_count": 2,
   "metadata": {
    "id": "SbUN3oV3o_G8"
   },
   "outputs": [],
   "source": [
    "data = pd.read_csv(\"parkinsons_updrs.data.csv\")\n",
    "data.drop([\"motor_UPDRS\"], axis=1, inplace=True)\n",
    "data.drop('subject#', axis=1, inplace=True) # Remove Subject Num"
   ]
  },
  {
   "cell_type": "code",
   "execution_count": 3,
   "metadata": {},
   "outputs": [
    {
     "data": {
      "text/html": [
       "<div>\n",
       "<style scoped>\n",
       "    .dataframe tbody tr th:only-of-type {\n",
       "        vertical-align: middle;\n",
       "    }\n",
       "\n",
       "    .dataframe tbody tr th {\n",
       "        vertical-align: top;\n",
       "    }\n",
       "\n",
       "    .dataframe thead th {\n",
       "        text-align: right;\n",
       "    }\n",
       "</style>\n",
       "<table border=\"1\" class=\"dataframe\">\n",
       "  <thead>\n",
       "    <tr style=\"text-align: right;\">\n",
       "      <th></th>\n",
       "      <th>age</th>\n",
       "      <th>sex</th>\n",
       "      <th>test_time</th>\n",
       "      <th>total_UPDRS</th>\n",
       "      <th>Jitter(%)</th>\n",
       "      <th>Jitter(Abs)</th>\n",
       "      <th>Jitter:RAP</th>\n",
       "      <th>Jitter:PPQ5</th>\n",
       "      <th>Jitter:DDP</th>\n",
       "      <th>Shimmer</th>\n",
       "      <th>Shimmer(dB)</th>\n",
       "      <th>Shimmer:APQ3</th>\n",
       "      <th>Shimmer:APQ5</th>\n",
       "      <th>Shimmer:APQ11</th>\n",
       "      <th>Shimmer:DDA</th>\n",
       "      <th>NHR</th>\n",
       "      <th>HNR</th>\n",
       "      <th>RPDE</th>\n",
       "      <th>DFA</th>\n",
       "      <th>PPE</th>\n",
       "    </tr>\n",
       "  </thead>\n",
       "  <tbody>\n",
       "    <tr>\n",
       "      <th>0</th>\n",
       "      <td>72</td>\n",
       "      <td>0</td>\n",
       "      <td>5.6431</td>\n",
       "      <td>34.398</td>\n",
       "      <td>0.00662</td>\n",
       "      <td>0.000034</td>\n",
       "      <td>0.00401</td>\n",
       "      <td>0.00317</td>\n",
       "      <td>0.01204</td>\n",
       "      <td>0.02565</td>\n",
       "      <td>0.230</td>\n",
       "      <td>0.01438</td>\n",
       "      <td>0.01309</td>\n",
       "      <td>0.01662</td>\n",
       "      <td>0.04314</td>\n",
       "      <td>0.014290</td>\n",
       "      <td>21.640</td>\n",
       "      <td>0.41888</td>\n",
       "      <td>0.54842</td>\n",
       "      <td>0.16006</td>\n",
       "    </tr>\n",
       "    <tr>\n",
       "      <th>1</th>\n",
       "      <td>72</td>\n",
       "      <td>0</td>\n",
       "      <td>12.6660</td>\n",
       "      <td>34.894</td>\n",
       "      <td>0.00300</td>\n",
       "      <td>0.000017</td>\n",
       "      <td>0.00132</td>\n",
       "      <td>0.00150</td>\n",
       "      <td>0.00395</td>\n",
       "      <td>0.02024</td>\n",
       "      <td>0.179</td>\n",
       "      <td>0.00994</td>\n",
       "      <td>0.01072</td>\n",
       "      <td>0.01689</td>\n",
       "      <td>0.02982</td>\n",
       "      <td>0.011112</td>\n",
       "      <td>27.183</td>\n",
       "      <td>0.43493</td>\n",
       "      <td>0.56477</td>\n",
       "      <td>0.10810</td>\n",
       "    </tr>\n",
       "    <tr>\n",
       "      <th>2</th>\n",
       "      <td>72</td>\n",
       "      <td>0</td>\n",
       "      <td>19.6810</td>\n",
       "      <td>35.389</td>\n",
       "      <td>0.00481</td>\n",
       "      <td>0.000025</td>\n",
       "      <td>0.00205</td>\n",
       "      <td>0.00208</td>\n",
       "      <td>0.00616</td>\n",
       "      <td>0.01675</td>\n",
       "      <td>0.181</td>\n",
       "      <td>0.00734</td>\n",
       "      <td>0.00844</td>\n",
       "      <td>0.01458</td>\n",
       "      <td>0.02202</td>\n",
       "      <td>0.020220</td>\n",
       "      <td>23.047</td>\n",
       "      <td>0.46222</td>\n",
       "      <td>0.54405</td>\n",
       "      <td>0.21014</td>\n",
       "    </tr>\n",
       "    <tr>\n",
       "      <th>3</th>\n",
       "      <td>72</td>\n",
       "      <td>0</td>\n",
       "      <td>25.6470</td>\n",
       "      <td>35.810</td>\n",
       "      <td>0.00528</td>\n",
       "      <td>0.000027</td>\n",
       "      <td>0.00191</td>\n",
       "      <td>0.00264</td>\n",
       "      <td>0.00573</td>\n",
       "      <td>0.02309</td>\n",
       "      <td>0.327</td>\n",
       "      <td>0.01106</td>\n",
       "      <td>0.01265</td>\n",
       "      <td>0.01963</td>\n",
       "      <td>0.03317</td>\n",
       "      <td>0.027837</td>\n",
       "      <td>24.445</td>\n",
       "      <td>0.48730</td>\n",
       "      <td>0.57794</td>\n",
       "      <td>0.33277</td>\n",
       "    </tr>\n",
       "    <tr>\n",
       "      <th>4</th>\n",
       "      <td>72</td>\n",
       "      <td>0</td>\n",
       "      <td>33.6420</td>\n",
       "      <td>36.375</td>\n",
       "      <td>0.00335</td>\n",
       "      <td>0.000020</td>\n",
       "      <td>0.00093</td>\n",
       "      <td>0.00130</td>\n",
       "      <td>0.00278</td>\n",
       "      <td>0.01703</td>\n",
       "      <td>0.176</td>\n",
       "      <td>0.00679</td>\n",
       "      <td>0.00929</td>\n",
       "      <td>0.01819</td>\n",
       "      <td>0.02036</td>\n",
       "      <td>0.011625</td>\n",
       "      <td>26.126</td>\n",
       "      <td>0.47188</td>\n",
       "      <td>0.56122</td>\n",
       "      <td>0.19361</td>\n",
       "    </tr>\n",
       "    <tr>\n",
       "      <th>...</th>\n",
       "      <td>...</td>\n",
       "      <td>...</td>\n",
       "      <td>...</td>\n",
       "      <td>...</td>\n",
       "      <td>...</td>\n",
       "      <td>...</td>\n",
       "      <td>...</td>\n",
       "      <td>...</td>\n",
       "      <td>...</td>\n",
       "      <td>...</td>\n",
       "      <td>...</td>\n",
       "      <td>...</td>\n",
       "      <td>...</td>\n",
       "      <td>...</td>\n",
       "      <td>...</td>\n",
       "      <td>...</td>\n",
       "      <td>...</td>\n",
       "      <td>...</td>\n",
       "      <td>...</td>\n",
       "      <td>...</td>\n",
       "    </tr>\n",
       "    <tr>\n",
       "      <th>5870</th>\n",
       "      <td>61</td>\n",
       "      <td>0</td>\n",
       "      <td>142.7900</td>\n",
       "      <td>33.485</td>\n",
       "      <td>0.00406</td>\n",
       "      <td>0.000031</td>\n",
       "      <td>0.00167</td>\n",
       "      <td>0.00168</td>\n",
       "      <td>0.00500</td>\n",
       "      <td>0.01896</td>\n",
       "      <td>0.160</td>\n",
       "      <td>0.00973</td>\n",
       "      <td>0.01133</td>\n",
       "      <td>0.01549</td>\n",
       "      <td>0.02920</td>\n",
       "      <td>0.025137</td>\n",
       "      <td>22.369</td>\n",
       "      <td>0.64215</td>\n",
       "      <td>0.55314</td>\n",
       "      <td>0.21367</td>\n",
       "    </tr>\n",
       "    <tr>\n",
       "      <th>5871</th>\n",
       "      <td>61</td>\n",
       "      <td>0</td>\n",
       "      <td>149.8400</td>\n",
       "      <td>32.988</td>\n",
       "      <td>0.00297</td>\n",
       "      <td>0.000025</td>\n",
       "      <td>0.00119</td>\n",
       "      <td>0.00147</td>\n",
       "      <td>0.00358</td>\n",
       "      <td>0.02315</td>\n",
       "      <td>0.215</td>\n",
       "      <td>0.01052</td>\n",
       "      <td>0.01277</td>\n",
       "      <td>0.01904</td>\n",
       "      <td>0.03157</td>\n",
       "      <td>0.011927</td>\n",
       "      <td>22.886</td>\n",
       "      <td>0.52598</td>\n",
       "      <td>0.56518</td>\n",
       "      <td>0.12621</td>\n",
       "    </tr>\n",
       "    <tr>\n",
       "      <th>5872</th>\n",
       "      <td>61</td>\n",
       "      <td>0</td>\n",
       "      <td>156.8200</td>\n",
       "      <td>32.495</td>\n",
       "      <td>0.00349</td>\n",
       "      <td>0.000025</td>\n",
       "      <td>0.00152</td>\n",
       "      <td>0.00187</td>\n",
       "      <td>0.00456</td>\n",
       "      <td>0.02499</td>\n",
       "      <td>0.244</td>\n",
       "      <td>0.01371</td>\n",
       "      <td>0.01456</td>\n",
       "      <td>0.01877</td>\n",
       "      <td>0.04112</td>\n",
       "      <td>0.017701</td>\n",
       "      <td>25.065</td>\n",
       "      <td>0.47792</td>\n",
       "      <td>0.57888</td>\n",
       "      <td>0.14157</td>\n",
       "    </tr>\n",
       "    <tr>\n",
       "      <th>5873</th>\n",
       "      <td>61</td>\n",
       "      <td>0</td>\n",
       "      <td>163.7300</td>\n",
       "      <td>32.007</td>\n",
       "      <td>0.00281</td>\n",
       "      <td>0.000020</td>\n",
       "      <td>0.00128</td>\n",
       "      <td>0.00151</td>\n",
       "      <td>0.00383</td>\n",
       "      <td>0.01484</td>\n",
       "      <td>0.131</td>\n",
       "      <td>0.00693</td>\n",
       "      <td>0.00870</td>\n",
       "      <td>0.01307</td>\n",
       "      <td>0.02078</td>\n",
       "      <td>0.007984</td>\n",
       "      <td>24.422</td>\n",
       "      <td>0.56865</td>\n",
       "      <td>0.56327</td>\n",
       "      <td>0.14204</td>\n",
       "    </tr>\n",
       "    <tr>\n",
       "      <th>5874</th>\n",
       "      <td>61</td>\n",
       "      <td>0</td>\n",
       "      <td>170.7300</td>\n",
       "      <td>31.513</td>\n",
       "      <td>0.00282</td>\n",
       "      <td>0.000021</td>\n",
       "      <td>0.00135</td>\n",
       "      <td>0.00166</td>\n",
       "      <td>0.00406</td>\n",
       "      <td>0.01907</td>\n",
       "      <td>0.171</td>\n",
       "      <td>0.00946</td>\n",
       "      <td>0.01154</td>\n",
       "      <td>0.01470</td>\n",
       "      <td>0.02839</td>\n",
       "      <td>0.008172</td>\n",
       "      <td>23.259</td>\n",
       "      <td>0.58608</td>\n",
       "      <td>0.57077</td>\n",
       "      <td>0.15336</td>\n",
       "    </tr>\n",
       "  </tbody>\n",
       "</table>\n",
       "<p>5875 rows × 20 columns</p>\n",
       "</div>"
      ],
      "text/plain": [
       "      age  sex  test_time  total_UPDRS  Jitter(%)  Jitter(Abs)  Jitter:RAP  \\\n",
       "0      72    0     5.6431       34.398    0.00662     0.000034     0.00401   \n",
       "1      72    0    12.6660       34.894    0.00300     0.000017     0.00132   \n",
       "2      72    0    19.6810       35.389    0.00481     0.000025     0.00205   \n",
       "3      72    0    25.6470       35.810    0.00528     0.000027     0.00191   \n",
       "4      72    0    33.6420       36.375    0.00335     0.000020     0.00093   \n",
       "...   ...  ...        ...          ...        ...          ...         ...   \n",
       "5870   61    0   142.7900       33.485    0.00406     0.000031     0.00167   \n",
       "5871   61    0   149.8400       32.988    0.00297     0.000025     0.00119   \n",
       "5872   61    0   156.8200       32.495    0.00349     0.000025     0.00152   \n",
       "5873   61    0   163.7300       32.007    0.00281     0.000020     0.00128   \n",
       "5874   61    0   170.7300       31.513    0.00282     0.000021     0.00135   \n",
       "\n",
       "      Jitter:PPQ5  Jitter:DDP  Shimmer  Shimmer(dB)  Shimmer:APQ3  \\\n",
       "0         0.00317     0.01204  0.02565        0.230       0.01438   \n",
       "1         0.00150     0.00395  0.02024        0.179       0.00994   \n",
       "2         0.00208     0.00616  0.01675        0.181       0.00734   \n",
       "3         0.00264     0.00573  0.02309        0.327       0.01106   \n",
       "4         0.00130     0.00278  0.01703        0.176       0.00679   \n",
       "...           ...         ...      ...          ...           ...   \n",
       "5870      0.00168     0.00500  0.01896        0.160       0.00973   \n",
       "5871      0.00147     0.00358  0.02315        0.215       0.01052   \n",
       "5872      0.00187     0.00456  0.02499        0.244       0.01371   \n",
       "5873      0.00151     0.00383  0.01484        0.131       0.00693   \n",
       "5874      0.00166     0.00406  0.01907        0.171       0.00946   \n",
       "\n",
       "      Shimmer:APQ5  Shimmer:APQ11  Shimmer:DDA       NHR     HNR     RPDE  \\\n",
       "0          0.01309        0.01662      0.04314  0.014290  21.640  0.41888   \n",
       "1          0.01072        0.01689      0.02982  0.011112  27.183  0.43493   \n",
       "2          0.00844        0.01458      0.02202  0.020220  23.047  0.46222   \n",
       "3          0.01265        0.01963      0.03317  0.027837  24.445  0.48730   \n",
       "4          0.00929        0.01819      0.02036  0.011625  26.126  0.47188   \n",
       "...            ...            ...          ...       ...     ...      ...   \n",
       "5870       0.01133        0.01549      0.02920  0.025137  22.369  0.64215   \n",
       "5871       0.01277        0.01904      0.03157  0.011927  22.886  0.52598   \n",
       "5872       0.01456        0.01877      0.04112  0.017701  25.065  0.47792   \n",
       "5873       0.00870        0.01307      0.02078  0.007984  24.422  0.56865   \n",
       "5874       0.01154        0.01470      0.02839  0.008172  23.259  0.58608   \n",
       "\n",
       "          DFA      PPE  \n",
       "0     0.54842  0.16006  \n",
       "1     0.56477  0.10810  \n",
       "2     0.54405  0.21014  \n",
       "3     0.57794  0.33277  \n",
       "4     0.56122  0.19361  \n",
       "...       ...      ...  \n",
       "5870  0.55314  0.21367  \n",
       "5871  0.56518  0.12621  \n",
       "5872  0.57888  0.14157  \n",
       "5873  0.56327  0.14204  \n",
       "5874  0.57077  0.15336  \n",
       "\n",
       "[5875 rows x 20 columns]"
      ]
     },
     "execution_count": 3,
     "metadata": {},
     "output_type": "execute_result"
    }
   ],
   "source": [
    "data"
   ]
  },
  {
   "cell_type": "code",
   "execution_count": 4,
   "metadata": {
    "id": "Yw5mpTYbpDPp"
   },
   "outputs": [],
   "source": [
    "#assigning features to x and target to y\n",
    "X = data.drop([\"total_UPDRS\"], axis=1) \n",
    "y = data.total_UPDRS.values"
   ]
  },
  {
   "cell_type": "code",
   "execution_count": 5,
   "metadata": {
    "id": "65V7e-6fpHF0"
   },
   "outputs": [],
   "source": [
    "#Splitting the data for training and testing\n",
    "from sklearn.model_selection import train_test_split \n",
    "x_train, x_test, y_train, y_test = train_test_split(X, y, test_size=0.2, random_state=1)"
   ]
  },
  {
   "cell_type": "code",
   "execution_count": 6,
   "metadata": {
    "colab": {
     "base_uri": "https://localhost:8080/"
    },
    "id": "8jmuY6XEp-70",
    "outputId": "0a29a238-f8fe-47ed-95bc-8b64b8d271e7"
   },
   "outputs": [
    {
     "data": {
      "text/plain": [
       "array([26.29662131, 32.48997362, 26.65891005, ..., 29.76486306,\n",
       "       34.10303352, 34.96569014])"
      ]
     },
     "execution_count": 6,
     "metadata": {},
     "output_type": "execute_result"
    }
   ],
   "source": [
    "#implenenting model\n",
    "from sklearn import linear_model\n",
    "\n",
    "#ridge with cross validation for penalty\n",
    "from sklearn.linear_model import RidgeCV\n",
    "plr = RidgeCV(alphas=[1e-3, 1e-2, 1e-1, 1])\n",
    "y_pred=plr.fit(x_train, y_train)\n",
    "plr.alpha_\n",
    "plr.predict(x_test)"
   ]
  },
  {
   "cell_type": "code",
   "execution_count": 7,
   "metadata": {
    "colab": {
     "base_uri": "https://localhost:8080/"
    },
    "id": "TY9VezaRqWoU",
    "outputId": "657ceb48-1598-46ea-c5c8-404caec299c8"
   },
   "outputs": [
    {
     "data": {
      "text/plain": [
       "0.18064703730193654"
      ]
     },
     "execution_count": 7,
     "metadata": {},
     "output_type": "execute_result"
    }
   ],
   "source": [
    "plr.score(x_test, y_test)"
   ]
  },
  {
   "cell_type": "code",
   "execution_count": 8,
   "metadata": {
    "colab": {
     "base_uri": "https://localhost:8080/"
    },
    "id": "5S9DG60eqdoM",
    "outputId": "258613ed-318d-463c-d217-3e8a92546f82"
   },
   "outputs": [
    {
     "name": "stdout",
     "output_type": "stream",
     "text": [
      "Training Accuracy for Linear Penalized Model:  0.16739005232601933\n",
      "Testing Accuracy for Linear Penalized Model:  0.18064703730193654\n",
      "RMSE for Training Data:  9.694988758870318\n",
      "RMSE for Testing Data:  9.949409823969008\n"
     ]
    }
   ],
   "source": [
    "#performance metrics\n",
    "from sklearn.metrics import r2_score  # For find accuracy with R2 Score\n",
    "from sklearn.metrics import mean_squared_error  # For MSE\n",
    "from math import sqrt  # For squareroot operation\n",
    "\n",
    "y_pred_train = plr.predict(x_train)\n",
    "y_pred_test = plr.predict(x_test)\n",
    "\n",
    "accuracy_train = r2_score(y_train, y_pred_train)\n",
    "print(\"Training Accuracy for Linear Penalized Model: \", accuracy_train)\n",
    "\n",
    "accuracy_test = r2_score(y_test, y_pred_test)\n",
    "print(\"Testing Accuracy for Linear Penalized Model: \", accuracy_test)\n",
    "\n",
    "RMSE_train = sqrt(mean_squared_error(y_train, y_pred_train))\n",
    "print(\"RMSE for Training Data: \", RMSE_train)\n",
    "\n",
    "RMSE_test = sqrt(mean_squared_error(y_test, y_pred_test))\n",
    "print(\"RMSE for Testing Data: \", RMSE_test)"
   ]
  },
  {
   "cell_type": "code",
   "execution_count": 9,
   "metadata": {},
   "outputs": [],
   "source": [
    "true_val = y_train\n",
    "pred_val = y_pred_train"
   ]
  },
  {
   "cell_type": "code",
   "execution_count": 10,
   "metadata": {},
   "outputs": [
    {
     "data": {
      "image/png": "[encoded data removed]",
      "text/plain": [
       "<Figure size 576x576 with 1 Axes>"
      ]
     },
     "metadata": {
      "needs_background": "light"
     },
     "output_type": "display_data"
    }
   ],
   "source": [
    "#scatter plot\n",
    "plt.figure(figsize=(8,8))\n",
    "plt.scatter(true_val, pred_val, c='crimson')\n",
    "plt.yscale('log')\n",
    "plt.xscale('log')\n",
    "\n",
    "p1 = max(max(pred_val), max(true_val))\n",
    "p2 = min(min(pred_val), min(true_val))\n",
    "plt.plot([p1, p2], [p1, p2], 'b-')\n",
    "plt.xlabel('True Values', fontsize=15)\n",
    "plt.ylabel('Predicted Values', fontsize=15)\n",
    "plt.title(\"Penalized Model True Values vs Predicted Values\")\n",
    "plt.axis('equal')\n",
    "plt.show()\n"
   ]
  },
  {
   "cell_type": "code",
   "execution_count": null,
   "metadata": {},
   "outputs": [],
   "source": []
  },
  {
   "cell_type": "code",
   "execution_count": null,
   "metadata": {},
   "outputs": [],
   "source": []
  }
 ],
 "metadata": {
  "colab": {
   "collapsed_sections": [],
   "name": "Regression - Penalized Model.ipynb",
   "provenance": []
  },
  "kernelspec": {
   "display_name": "Python 3",
   "language": "python",
   "name": "python3"
  },
  "language_info": {
   "codemirror_mode": {
    "name": "ipython",
    "version": 3
   },
   "file_extension": ".py",
   "mimetype": "text/x-python",
   "name": "python",
   "nbconvert_exporter": "python",
   "pygments_lexer": "ipython3",
   "version": "3.8.5"
  }
 },
 "nbformat": 4,
 "nbformat_minor": 1
}
