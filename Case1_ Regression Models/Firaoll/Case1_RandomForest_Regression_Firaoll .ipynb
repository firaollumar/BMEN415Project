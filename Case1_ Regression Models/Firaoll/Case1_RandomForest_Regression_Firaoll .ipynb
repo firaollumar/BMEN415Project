{
 "cells": [
  {
   "cell_type": "code",
   "execution_count": 1,
   "metadata": {},
   "outputs": [],
   "source": [
    "import pandas as pd \n",
    "import numpy as np\n",
    "import matplotlib.pyplot as plt\n",
    "import seaborn as sns\n",
    "\n",
    "from sklearn.metrics import mean_squared_error, r2_score \n",
    "np\n",
    "from sklearn.ensemble import RandomForestRegressor\n",
    "rf=RandomForestRegressor ()"
   ]
  },
  {
   "cell_type": "code",
   "execution_count": 2,
   "metadata": {},
   "outputs": [],
   "source": [
    "from sklearn.model_selection import train_test_split"
   ]
  },
  {
   "cell_type": "markdown",
   "metadata": {},
   "source": [
    "Read in raw data "
   ]
  },
  {
   "cell_type": "code",
   "execution_count": 3,
   "metadata": {},
   "outputs": [
    {
     "data": {
      "text/html": [
       "<div>\n",
       "<style scoped>\n",
       "    .dataframe tbody tr th:only-of-type {\n",
       "        vertical-align: middle;\n",
       "    }\n",
       "\n",
       "    .dataframe tbody tr th {\n",
       "        vertical-align: top;\n",
       "    }\n",
       "\n",
       "    .dataframe thead th {\n",
       "        text-align: right;\n",
       "    }\n",
       "</style>\n",
       "<table border=\"1\" class=\"dataframe\">\n",
       "  <thead>\n",
       "    <tr style=\"text-align: right;\">\n",
       "      <th></th>\n",
       "      <th>subject#</th>\n",
       "      <th>age</th>\n",
       "      <th>sex</th>\n",
       "      <th>test_time</th>\n",
       "      <th>motor_UPDRS</th>\n",
       "      <th>total_UPDRS</th>\n",
       "      <th>Jitter(%)</th>\n",
       "      <th>Jitter(Abs)</th>\n",
       "      <th>Jitter:RAP</th>\n",
       "      <th>Jitter:PPQ5</th>\n",
       "      <th>...</th>\n",
       "      <th>Shimmer(dB)</th>\n",
       "      <th>Shimmer:APQ3</th>\n",
       "      <th>Shimmer:APQ5</th>\n",
       "      <th>Shimmer:APQ11</th>\n",
       "      <th>Shimmer:DDA</th>\n",
       "      <th>NHR</th>\n",
       "      <th>HNR</th>\n",
       "      <th>RPDE</th>\n",
       "      <th>DFA</th>\n",
       "      <th>PPE</th>\n",
       "    </tr>\n",
       "  </thead>\n",
       "  <tbody>\n",
       "    <tr>\n",
       "      <th>0</th>\n",
       "      <td>1</td>\n",
       "      <td>72</td>\n",
       "      <td>0</td>\n",
       "      <td>5.6431</td>\n",
       "      <td>28.199</td>\n",
       "      <td>34.398</td>\n",
       "      <td>0.00662</td>\n",
       "      <td>0.000034</td>\n",
       "      <td>0.00401</td>\n",
       "      <td>0.00317</td>\n",
       "      <td>...</td>\n",
       "      <td>0.230</td>\n",
       "      <td>0.01438</td>\n",
       "      <td>0.01309</td>\n",
       "      <td>0.01662</td>\n",
       "      <td>0.04314</td>\n",
       "      <td>0.014290</td>\n",
       "      <td>21.640</td>\n",
       "      <td>0.41888</td>\n",
       "      <td>0.54842</td>\n",
       "      <td>0.16006</td>\n",
       "    </tr>\n",
       "    <tr>\n",
       "      <th>1</th>\n",
       "      <td>1</td>\n",
       "      <td>72</td>\n",
       "      <td>0</td>\n",
       "      <td>12.6660</td>\n",
       "      <td>28.447</td>\n",
       "      <td>34.894</td>\n",
       "      <td>0.00300</td>\n",
       "      <td>0.000017</td>\n",
       "      <td>0.00132</td>\n",
       "      <td>0.00150</td>\n",
       "      <td>...</td>\n",
       "      <td>0.179</td>\n",
       "      <td>0.00994</td>\n",
       "      <td>0.01072</td>\n",
       "      <td>0.01689</td>\n",
       "      <td>0.02982</td>\n",
       "      <td>0.011112</td>\n",
       "      <td>27.183</td>\n",
       "      <td>0.43493</td>\n",
       "      <td>0.56477</td>\n",
       "      <td>0.10810</td>\n",
       "    </tr>\n",
       "    <tr>\n",
       "      <th>2</th>\n",
       "      <td>1</td>\n",
       "      <td>72</td>\n",
       "      <td>0</td>\n",
       "      <td>19.6810</td>\n",
       "      <td>28.695</td>\n",
       "      <td>35.389</td>\n",
       "      <td>0.00481</td>\n",
       "      <td>0.000025</td>\n",
       "      <td>0.00205</td>\n",
       "      <td>0.00208</td>\n",
       "      <td>...</td>\n",
       "      <td>0.181</td>\n",
       "      <td>0.00734</td>\n",
       "      <td>0.00844</td>\n",
       "      <td>0.01458</td>\n",
       "      <td>0.02202</td>\n",
       "      <td>0.020220</td>\n",
       "      <td>23.047</td>\n",
       "      <td>0.46222</td>\n",
       "      <td>0.54405</td>\n",
       "      <td>0.21014</td>\n",
       "    </tr>\n",
       "    <tr>\n",
       "      <th>3</th>\n",
       "      <td>1</td>\n",
       "      <td>72</td>\n",
       "      <td>0</td>\n",
       "      <td>25.6470</td>\n",
       "      <td>28.905</td>\n",
       "      <td>35.810</td>\n",
       "      <td>0.00528</td>\n",
       "      <td>0.000027</td>\n",
       "      <td>0.00191</td>\n",
       "      <td>0.00264</td>\n",
       "      <td>...</td>\n",
       "      <td>0.327</td>\n",
       "      <td>0.01106</td>\n",
       "      <td>0.01265</td>\n",
       "      <td>0.01963</td>\n",
       "      <td>0.03317</td>\n",
       "      <td>0.027837</td>\n",
       "      <td>24.445</td>\n",
       "      <td>0.48730</td>\n",
       "      <td>0.57794</td>\n",
       "      <td>0.33277</td>\n",
       "    </tr>\n",
       "    <tr>\n",
       "      <th>4</th>\n",
       "      <td>1</td>\n",
       "      <td>72</td>\n",
       "      <td>0</td>\n",
       "      <td>33.6420</td>\n",
       "      <td>29.187</td>\n",
       "      <td>36.375</td>\n",
       "      <td>0.00335</td>\n",
       "      <td>0.000020</td>\n",
       "      <td>0.00093</td>\n",
       "      <td>0.00130</td>\n",
       "      <td>...</td>\n",
       "      <td>0.176</td>\n",
       "      <td>0.00679</td>\n",
       "      <td>0.00929</td>\n",
       "      <td>0.01819</td>\n",
       "      <td>0.02036</td>\n",
       "      <td>0.011625</td>\n",
       "      <td>26.126</td>\n",
       "      <td>0.47188</td>\n",
       "      <td>0.56122</td>\n",
       "      <td>0.19361</td>\n",
       "    </tr>\n",
       "    <tr>\n",
       "      <th>...</th>\n",
       "      <td>...</td>\n",
       "      <td>...</td>\n",
       "      <td>...</td>\n",
       "      <td>...</td>\n",
       "      <td>...</td>\n",
       "      <td>...</td>\n",
       "      <td>...</td>\n",
       "      <td>...</td>\n",
       "      <td>...</td>\n",
       "      <td>...</td>\n",
       "      <td>...</td>\n",
       "      <td>...</td>\n",
       "      <td>...</td>\n",
       "      <td>...</td>\n",
       "      <td>...</td>\n",
       "      <td>...</td>\n",
       "      <td>...</td>\n",
       "      <td>...</td>\n",
       "      <td>...</td>\n",
       "      <td>...</td>\n",
       "      <td>...</td>\n",
       "    </tr>\n",
       "    <tr>\n",
       "      <th>5870</th>\n",
       "      <td>42</td>\n",
       "      <td>61</td>\n",
       "      <td>0</td>\n",
       "      <td>142.7900</td>\n",
       "      <td>22.485</td>\n",
       "      <td>33.485</td>\n",
       "      <td>0.00406</td>\n",
       "      <td>0.000031</td>\n",
       "      <td>0.00167</td>\n",
       "      <td>0.00168</td>\n",
       "      <td>...</td>\n",
       "      <td>0.160</td>\n",
       "      <td>0.00973</td>\n",
       "      <td>0.01133</td>\n",
       "      <td>0.01549</td>\n",
       "      <td>0.02920</td>\n",
       "      <td>0.025137</td>\n",
       "      <td>22.369</td>\n",
       "      <td>0.64215</td>\n",
       "      <td>0.55314</td>\n",
       "      <td>0.21367</td>\n",
       "    </tr>\n",
       "    <tr>\n",
       "      <th>5871</th>\n",
       "      <td>42</td>\n",
       "      <td>61</td>\n",
       "      <td>0</td>\n",
       "      <td>149.8400</td>\n",
       "      <td>21.988</td>\n",
       "      <td>32.988</td>\n",
       "      <td>0.00297</td>\n",
       "      <td>0.000025</td>\n",
       "      <td>0.00119</td>\n",
       "      <td>0.00147</td>\n",
       "      <td>...</td>\n",
       "      <td>0.215</td>\n",
       "      <td>0.01052</td>\n",
       "      <td>0.01277</td>\n",
       "      <td>0.01904</td>\n",
       "      <td>0.03157</td>\n",
       "      <td>0.011927</td>\n",
       "      <td>22.886</td>\n",
       "      <td>0.52598</td>\n",
       "      <td>0.56518</td>\n",
       "      <td>0.12621</td>\n",
       "    </tr>\n",
       "    <tr>\n",
       "      <th>5872</th>\n",
       "      <td>42</td>\n",
       "      <td>61</td>\n",
       "      <td>0</td>\n",
       "      <td>156.8200</td>\n",
       "      <td>21.495</td>\n",
       "      <td>32.495</td>\n",
       "      <td>0.00349</td>\n",
       "      <td>0.000025</td>\n",
       "      <td>0.00152</td>\n",
       "      <td>0.00187</td>\n",
       "      <td>...</td>\n",
       "      <td>0.244</td>\n",
       "      <td>0.01371</td>\n",
       "      <td>0.01456</td>\n",
       "      <td>0.01877</td>\n",
       "      <td>0.04112</td>\n",
       "      <td>0.017701</td>\n",
       "      <td>25.065</td>\n",
       "      <td>0.47792</td>\n",
       "      <td>0.57888</td>\n",
       "      <td>0.14157</td>\n",
       "    </tr>\n",
       "    <tr>\n",
       "      <th>5873</th>\n",
       "      <td>42</td>\n",
       "      <td>61</td>\n",
       "      <td>0</td>\n",
       "      <td>163.7300</td>\n",
       "      <td>21.007</td>\n",
       "      <td>32.007</td>\n",
       "      <td>0.00281</td>\n",
       "      <td>0.000020</td>\n",
       "      <td>0.00128</td>\n",
       "      <td>0.00151</td>\n",
       "      <td>...</td>\n",
       "      <td>0.131</td>\n",
       "      <td>0.00693</td>\n",
       "      <td>0.00870</td>\n",
       "      <td>0.01307</td>\n",
       "      <td>0.02078</td>\n",
       "      <td>0.007984</td>\n",
       "      <td>24.422</td>\n",
       "      <td>0.56865</td>\n",
       "      <td>0.56327</td>\n",
       "      <td>0.14204</td>\n",
       "    </tr>\n",
       "    <tr>\n",
       "      <th>5874</th>\n",
       "      <td>42</td>\n",
       "      <td>61</td>\n",
       "      <td>0</td>\n",
       "      <td>170.7300</td>\n",
       "      <td>20.513</td>\n",
       "      <td>31.513</td>\n",
       "      <td>0.00282</td>\n",
       "      <td>0.000021</td>\n",
       "      <td>0.00135</td>\n",
       "      <td>0.00166</td>\n",
       "      <td>...</td>\n",
       "      <td>0.171</td>\n",
       "      <td>0.00946</td>\n",
       "      <td>0.01154</td>\n",
       "      <td>0.01470</td>\n",
       "      <td>0.02839</td>\n",
       "      <td>0.008172</td>\n",
       "      <td>23.259</td>\n",
       "      <td>0.58608</td>\n",
       "      <td>0.57077</td>\n",
       "      <td>0.15336</td>\n",
       "    </tr>\n",
       "  </tbody>\n",
       "</table>\n",
       "<p>5875 rows × 22 columns</p>\n",
       "</div>"
      ],
      "text/plain": [
       "      subject#  age  sex  test_time  motor_UPDRS  total_UPDRS  Jitter(%)  \\\n",
       "0            1   72    0     5.6431       28.199       34.398    0.00662   \n",
       "1            1   72    0    12.6660       28.447       34.894    0.00300   \n",
       "2            1   72    0    19.6810       28.695       35.389    0.00481   \n",
       "3            1   72    0    25.6470       28.905       35.810    0.00528   \n",
       "4            1   72    0    33.6420       29.187       36.375    0.00335   \n",
       "...        ...  ...  ...        ...          ...          ...        ...   \n",
       "5870        42   61    0   142.7900       22.485       33.485    0.00406   \n",
       "5871        42   61    0   149.8400       21.988       32.988    0.00297   \n",
       "5872        42   61    0   156.8200       21.495       32.495    0.00349   \n",
       "5873        42   61    0   163.7300       21.007       32.007    0.00281   \n",
       "5874        42   61    0   170.7300       20.513       31.513    0.00282   \n",
       "\n",
       "      Jitter(Abs)  Jitter:RAP  Jitter:PPQ5  ...  Shimmer(dB)  Shimmer:APQ3  \\\n",
       "0        0.000034     0.00401      0.00317  ...        0.230       0.01438   \n",
       "1        0.000017     0.00132      0.00150  ...        0.179       0.00994   \n",
       "2        0.000025     0.00205      0.00208  ...        0.181       0.00734   \n",
       "3        0.000027     0.00191      0.00264  ...        0.327       0.01106   \n",
       "4        0.000020     0.00093      0.00130  ...        0.176       0.00679   \n",
       "...           ...         ...          ...  ...          ...           ...   \n",
       "5870     0.000031     0.00167      0.00168  ...        0.160       0.00973   \n",
       "5871     0.000025     0.00119      0.00147  ...        0.215       0.01052   \n",
       "5872     0.000025     0.00152      0.00187  ...        0.244       0.01371   \n",
       "5873     0.000020     0.00128      0.00151  ...        0.131       0.00693   \n",
       "5874     0.000021     0.00135      0.00166  ...        0.171       0.00946   \n",
       "\n",
       "      Shimmer:APQ5  Shimmer:APQ11  Shimmer:DDA       NHR     HNR     RPDE  \\\n",
       "0          0.01309        0.01662      0.04314  0.014290  21.640  0.41888   \n",
       "1          0.01072        0.01689      0.02982  0.011112  27.183  0.43493   \n",
       "2          0.00844        0.01458      0.02202  0.020220  23.047  0.46222   \n",
       "3          0.01265        0.01963      0.03317  0.027837  24.445  0.48730   \n",
       "4          0.00929        0.01819      0.02036  0.011625  26.126  0.47188   \n",
       "...            ...            ...          ...       ...     ...      ...   \n",
       "5870       0.01133        0.01549      0.02920  0.025137  22.369  0.64215   \n",
       "5871       0.01277        0.01904      0.03157  0.011927  22.886  0.52598   \n",
       "5872       0.01456        0.01877      0.04112  0.017701  25.065  0.47792   \n",
       "5873       0.00870        0.01307      0.02078  0.007984  24.422  0.56865   \n",
       "5874       0.01154        0.01470      0.02839  0.008172  23.259  0.58608   \n",
       "\n",
       "          DFA      PPE  \n",
       "0     0.54842  0.16006  \n",
       "1     0.56477  0.10810  \n",
       "2     0.54405  0.21014  \n",
       "3     0.57794  0.33277  \n",
       "4     0.56122  0.19361  \n",
       "...       ...      ...  \n",
       "5870  0.55314  0.21367  \n",
       "5871  0.56518  0.12621  \n",
       "5872  0.57888  0.14157  \n",
       "5873  0.56327  0.14204  \n",
       "5874  0.57077  0.15336  \n",
       "\n",
       "[5875 rows x 22 columns]"
      ]
     },
     "execution_count": 3,
     "metadata": {},
     "output_type": "execute_result"
    }
   ],
   "source": [
    "dataset=pd.read_csv('parkinsons_updrs.data.csv')\n",
    "dataset"
   ]
  },
  {
   "cell_type": "code",
   "execution_count": 4,
   "metadata": {},
   "outputs": [
    {
     "data": {
      "text/plain": [
       "(5875, 22)"
      ]
     },
     "execution_count": 4,
     "metadata": {},
     "output_type": "execute_result"
    }
   ],
   "source": [
    "dataset.shape"
   ]
  },
  {
   "cell_type": "code",
   "execution_count": 5,
   "metadata": {},
   "outputs": [],
   "source": [
    "dataset=dataset.drop(dataset.columns[0], axis=1) "
   ]
  },
  {
   "cell_type": "code",
   "execution_count": 6,
   "metadata": {},
   "outputs": [],
   "source": [
    "dataset=dataset.drop(dataset.columns[3], axis=1)"
   ]
  },
  {
   "cell_type": "code",
   "execution_count": 7,
   "metadata": {},
   "outputs": [],
   "source": [
    "X=dataset.loc[:,dataset.columns!=\"total_UPDRS\"]"
   ]
  },
  {
   "cell_type": "code",
   "execution_count": 8,
   "metadata": {},
   "outputs": [],
   "source": [
    "y=dataset['total_UPDRS']"
   ]
  },
  {
   "cell_type": "code",
   "execution_count": 9,
   "metadata": {},
   "outputs": [],
   "source": [
    "X_train,X_test,y_train,y_test = train_test_split(X,y,test_size=0.2,random_state=1)"
   ]
  },
  {
   "cell_type": "code",
   "execution_count": 10,
   "metadata": {},
   "outputs": [
    {
     "data": {
      "text/plain": [
       "(4700, 19)"
      ]
     },
     "execution_count": 10,
     "metadata": {},
     "output_type": "execute_result"
    }
   ],
   "source": [
    "X_train.shape"
   ]
  },
  {
   "cell_type": "code",
   "execution_count": 11,
   "metadata": {},
   "outputs": [
    {
     "data": {
      "text/plain": [
       "(1175,)"
      ]
     },
     "execution_count": 11,
     "metadata": {},
     "output_type": "execute_result"
    }
   ],
   "source": [
    "y_test.shape"
   ]
  },
  {
   "cell_type": "code",
   "execution_count": 12,
   "metadata": {},
   "outputs": [
    {
     "data": {
      "text/plain": [
       "(4700,)"
      ]
     },
     "execution_count": 12,
     "metadata": {},
     "output_type": "execute_result"
    }
   ],
   "source": [
    "y_train.shape"
   ]
  },
  {
   "cell_type": "code",
   "execution_count": 13,
   "metadata": {},
   "outputs": [
    {
     "data": {
      "text/plain": [
       "RandomForestRegressor()"
      ]
     },
     "execution_count": 13,
     "metadata": {},
     "output_type": "execute_result"
    }
   ],
   "source": [
    "#fit the model to x_train and y_train \n",
    "rf.fit(X_train, y_train)"
   ]
  },
  {
   "cell_type": "code",
   "execution_count": 14,
   "metadata": {},
   "outputs": [],
   "source": [
    "Y_train_pred=rf.predict(X_train)"
   ]
  },
  {
   "cell_type": "code",
   "execution_count": 15,
   "metadata": {},
   "outputs": [
    {
     "data": {
      "text/plain": [
       "array([26.23016 , 26.54403 , 20.72177 , ..., 21.787074, 47.51873 ,\n",
       "       35.667   ])"
      ]
     },
     "execution_count": 15,
     "metadata": {},
     "output_type": "execute_result"
    }
   ],
   "source": [
    "Y_test_pred=rf.predict(X_test)\n",
    "Y_test_pred"
   ]
  },
  {
   "cell_type": "code",
   "execution_count": 16,
   "metadata": {},
   "outputs": [
    {
     "data": {
      "text/plain": [
       "0.4147757202728598"
      ]
     },
     "execution_count": 16,
     "metadata": {},
     "output_type": "execute_result"
    }
   ],
   "source": [
    "mse1=mean_squared_error(y_train,Y_train_pred)\n",
    "mse1"
   ]
  },
  {
   "cell_type": "code",
   "execution_count": 17,
   "metadata": {},
   "outputs": [
    {
     "data": {
      "text/plain": [
       "3.4644459019941634"
      ]
     },
     "execution_count": 17,
     "metadata": {},
     "output_type": "execute_result"
    }
   ],
   "source": [
    "mse=mean_squared_error(y_test,Y_test_pred)\n",
    "mse"
   ]
  },
  {
   "cell_type": "code",
   "execution_count": 18,
   "metadata": {},
   "outputs": [],
   "source": [
    "from math import sqrt\n",
    "rmse=sqrt(mse)"
   ]
  },
  {
   "cell_type": "code",
   "execution_count": 19,
   "metadata": {},
   "outputs": [
    {
     "data": {
      "text/plain": [
       "1.861302205982189"
      ]
     },
     "execution_count": 19,
     "metadata": {},
     "output_type": "execute_result"
    }
   ],
   "source": [
    "rmse"
   ]
  },
  {
   "cell_type": "code",
   "execution_count": 20,
   "metadata": {},
   "outputs": [
    {
     "data": {
      "text/plain": [
       "1.861302205982189"
      ]
     },
     "execution_count": 20,
     "metadata": {},
     "output_type": "execute_result"
    }
   ],
   "source": [
    "#root mean squared error #testing \n",
    "np.sqrt(mse)"
   ]
  },
  {
   "cell_type": "code",
   "execution_count": 21,
   "metadata": {},
   "outputs": [
    {
     "data": {
      "text/plain": [
       "0.644030837982825"
      ]
     },
     "execution_count": 21,
     "metadata": {},
     "output_type": "execute_result"
    }
   ],
   "source": [
    "np.sqrt(mse1) #training "
   ]
  },
  {
   "cell_type": "code",
   "execution_count": 22,
   "metadata": {},
   "outputs": [
    {
     "data": {
      "text/plain": [
       "99.63258210745252"
      ]
     },
     "execution_count": 22,
     "metadata": {},
     "output_type": "execute_result"
    }
   ],
   "source": [
    "#training score\n",
    "r2_score(y_train,Y_train_pred)*100"
   ]
  },
  {
   "cell_type": "code",
   "execution_count": 23,
   "metadata": {},
   "outputs": [
    {
     "data": {
      "text/plain": [
       "97.13245546044477"
      ]
     },
     "execution_count": 23,
     "metadata": {},
     "output_type": "execute_result"
    }
   ],
   "source": [
    "#testing score\n",
    "r2_score(y_test,Y_test_pred)*100"
   ]
  },
  {
   "cell_type": "code",
   "execution_count": 24,
   "metadata": {
    "scrolled": true
   },
   "outputs": [],
   "source": [
    "#Y_test_pred.to_csv('RF_predicted.csv')"
   ]
  },
  {
   "cell_type": "code",
   "execution_count": 25,
   "metadata": {},
   "outputs": [],
   "source": [
    "predicted_value=Y_test_pred\n",
    "true_value=y_test"
   ]
  },
  {
   "cell_type": "code",
   "execution_count": 26,
   "metadata": {},
   "outputs": [
    {
     "data": {
      "text/plain": [
       "(1175,)"
      ]
     },
     "execution_count": 26,
     "metadata": {},
     "output_type": "execute_result"
    }
   ],
   "source": [
    "predicted_value.shape"
   ]
  },
  {
   "cell_type": "code",
   "execution_count": 27,
   "metadata": {},
   "outputs": [
    {
     "data": {
      "image/png": "[encoded data removed]",
      "text/plain": [
       "<Figure size 720x720 with 1 Axes>"
      ]
     },
     "metadata": {
      "needs_background": "light"
     },
     "output_type": "display_data"
    }
   ],
   "source": [
    "plt.figure(figsize=(10,10))\n",
    "plt.scatter(true_value, predicted_value, c='crimson')\n",
    "plt.yscale('log')\n",
    "plt.xscale('log')\n",
    "\n",
    "p1 = max(max(predicted_value), max(true_value))\n",
    "p2 = min(min(predicted_value), min(true_value))\n",
    "plt.plot([p1, p2], [p1, p2], 'b-')\n",
    "plt.xlabel('True Values', fontsize=15)\n",
    "plt.ylabel('Predicted', fontsize=15)\n",
    "plt.title(\"Firaoll's Random Forest Regression: True Values vs Predicted \")\n",
    "plt.axis('equal')\n",
    "plt.show()"
   ]
  },
  {
   "cell_type": "code",
   "execution_count": 28,
   "metadata": {},
   "outputs": [
    {
     "name": "stdout",
     "output_type": "stream",
     "text": [
      "Training Accuracy for Random Forest:  99.63258210745252\n",
      "Testing Accuracy for Random Forest:  97.13245546044477\n",
      "RMSE for Training Data:  0.644030837982825\n",
      "RMSE for Testing Data:  1.861302205982189\n"
     ]
    }
   ],
   "source": [
    "from sklearn.model_selection import cross_val_predict  # For K-Fold Cross Validation\n",
    "from sklearn.metrics import r2_score  # For find accuracy with R2 Score\n",
    "from sklearn.metrics import mean_squared_error  # For MSE\n",
    "from math import sqrt  # For squareroot operation\n",
    "\n",
    "y_train_pred = rf.predict(X_train)\n",
    "y_test_pred = rf.predict(X_test)\n",
    "\n",
    "accuracy_train = r2_score(y_train, y_train_pred)\n",
    "print(\"Training Accuracy for Random Forest: \", accuracy_train*100)\n",
    "\n",
    "accuracy_test = r2_score(y_test, y_test_pred)\n",
    "print(\"Testing Accuracy for Random Forest: \", accuracy_test*100)\n",
    "\n",
    "RMSE_MLR_train = sqrt(mean_squared_error(y_train, y_train_pred))\n",
    "print(\"RMSE for Training Data: \", RMSE_MLR_train)\n",
    "\n",
    "RMSE_MLR_test = sqrt(mean_squared_error(y_test, y_test_pred))\n",
    "print(\"RMSE for Testing Data: \", RMSE_MLR_test)"
   ]
  },
  {
   "cell_type": "code",
   "execution_count": null,
   "metadata": {},
   "outputs": [],
   "source": []
  }
 ],
 "metadata": {
  "kernelspec": {
   "display_name": "Python 3",
   "language": "python",
   "name": "python3"
  },
  "language_info": {
   "codemirror_mode": {
    "name": "ipython",
    "version": 3
   },
   "file_extension": ".py",
   "mimetype": "text/x-python",
   "name": "python",
   "nbconvert_exporter": "python",
   "pygments_lexer": "ipython3",
   "version": "3.8.5"
  }
 },
 "nbformat": 4,
 "nbformat_minor": 5
}
