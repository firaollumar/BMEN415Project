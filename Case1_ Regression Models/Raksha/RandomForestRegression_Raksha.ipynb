{
  "nbformat": 4,
  "nbformat_minor": 0,
  "metadata": {
    "colab": {
      "name": "RandomForestRegression_Raksha.ipynb",
      "provenance": [],
      "collapsed_sections": []
    },
    "kernelspec": {
      "name": "python3",
      "display_name": "Python 3"
    },
    "language_info": {
      "name": "python"
    }
  },
  "cells": [
    {
      "cell_type": "code",
      "source": [
        "import numpy as np  # Importing NumPy library\n",
        "import pandas as pd  # Importing Pandas library\n",
        "import matplotlib.pyplot as plt  # Importing Matplotlib library's \"pyplot\" module\n",
        "import seaborn as sns  # Imorting Seaborn library\n",
        "\n",
        "import os\n",
        "data = pd.read_csv(\"parkinsons_updrs.data.csv\")"
      ],
      "metadata": {
        "id": "gfCYWFUm5VkR"
      },
      "execution_count": null,
      "outputs": []
    },
    {
      "cell_type": "code",
      "source": [
        "import sklearn.ensemble"
      ],
      "metadata": {
        "id": "IQnYkJwd4T4F"
      },
      "execution_count": null,
      "outputs": []
    },
    {
      "cell_type": "code",
      "source": [
        "X = data.drop([\"total_UPDRS\"], axis=1) \n",
        "y = data.total_UPDRS.values"
      ],
      "metadata": {
        "id": "6WOyTASC7c0q"
      },
      "execution_count": null,
      "outputs": []
    },
    {
      "cell_type": "code",
      "source": [
        "from sklearn.model_selection import train_test_split \n",
        "\n",
        "x_train, x_test, y_train, y_test = train_test_split(X, y, test_size=0.2, random_state=42)"
      ],
      "metadata": {
        "id": "hXAqjmZU6i6w"
      },
      "execution_count": null,
      "outputs": []
    },
    {
      "cell_type": "code",
      "source": [
        "from sklearn.preprocessing import StandardScaler\n",
        "\n",
        "sc = StandardScaler()\n",
        "x_train = sc.fit_transform(x_train)\n",
        "x_test = sc.transform(x_test)"
      ],
      "metadata": {
        "id": "NZQHWpqM8c7Q"
      },
      "execution_count": null,
      "outputs": []
    },
    {
      "cell_type": "code",
      "source": [
        "from sklearn.ensemble import RandomForestRegressor\n",
        "\n",
        "regressor = RandomForestRegressor(n_estimators=20, random_state=0)\n",
        "regressor.fit(x_train, y_train)\n",
        "y_pred_randomforest_train = regressor.predict(x_train)\n",
        "y_pred_randomforest_test = regressor.predict(x_test)"
      ],
      "metadata": {
        "id": "zfVE_nuh2Zpv"
      },
      "execution_count": null,
      "outputs": []
    },
    {
      "cell_type": "code",
      "source": [
        "from sklearn.model_selection import cross_val_predict  # For K-Fold Cross Validation\n",
        "from sklearn.metrics import r2_score  # For find accuracy with R2 Score\n",
        "from sklearn.metrics import mean_squared_error  # For MSE\n",
        "from math import sqrt  # For squareroot operation\n",
        "\n",
        "\n",
        "accuracy_randomforest_train = r2_score(y_train, y_pred_randomforest_train)\n",
        "print(\"Training Accuracy for Random Forest Regression Model: \", accuracy_randomforest_train)\n",
        "\n",
        "accuracy_randomforest_test = r2_score(y_test, y_pred_randomforest_test)\n",
        "print(\"Testing Accuracy for Random Forest Regression Model: \", accuracy_randomforest_test)\n",
        "\n",
        "RMSE_randomforest_train = sqrt(mean_squared_error(y_train, y_pred_randomforest_train))\n",
        "print(\"RMSE for Training Data: \", RMSE_randomforest_train)\n",
        "\n",
        "RMSE_randomforest_test = sqrt(mean_squared_error(y_test, y_pred_randomforest_test))\n",
        "print(\"RMSE for Testing Data: \", RMSE_randomforest_test)"
      ],
      "metadata": {
        "id": "IJN4DKOe-OZu",
        "colab": {
          "base_uri": "https://localhost:8080/"
        },
        "outputId": "9ee65cfe-2757-4420-e475-1934f0d977b5"
      },
      "execution_count": null,
      "outputs": [
        {
          "output_type": "stream",
          "name": "stdout",
          "text": [
            "Training Accuracy for Random Forest Regression Model:  0.9998384851108377\n",
            "Testing Accuracy for Random Forest Regression Model:  0.9992437428289642\n",
            "RMSE for Training Data:  0.13650980439073923\n",
            "RMSE for Testing Data:  0.2894877521688\n"
          ]
        }
      ]
    },
    {
      "cell_type": "code",
      "source": [
        "plt.figure(figsize=(10,10))\n",
        "plt.scatter(y_test, predicted_value, c='crimson')\n",
        "plt.yscale('log')\n",
        "plt.xscale('log')\n",
        "\n",
        "p1 = max(max(predicted_value), max(y_test))\n",
        "p2 = min(min(predicted_value), min(y_test))\n",
        "plt.plot([p1, p2], [p1, p2], 'b-')\n",
        "plt.xlabel('True Values', fontsize=15)\n",
        "plt.ylabel('Predicted', fontsize=15)\n",
        "plt.title(\"Random Forest Regression: True Values vs Predicted \")\n",
        "plt.axis('equal')\n",
        "plt.show()"
      ],
      "metadata": {
        "id": "V64TJSJpqjh6"
      },
      "execution_count": null,
      "outputs": []
    }
  ]
}