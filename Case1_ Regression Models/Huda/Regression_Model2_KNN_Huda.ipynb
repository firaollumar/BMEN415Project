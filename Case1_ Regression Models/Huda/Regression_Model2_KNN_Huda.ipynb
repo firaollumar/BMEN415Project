{
 "cells": [
  {
   "cell_type": "code",
   "execution_count": 21,
   "metadata": {
    "id": "1ZMdeeD10L_a"
   },
   "outputs": [],
   "source": [
    "import numpy as np  # Importing NumPy library\n",
    "import pandas as pd  # Importing Pandas library\n",
    "import matplotlib.pyplot as plt  # Importing Matplotlib library's \"pyplot\" module\n",
    "import seaborn as sns  # Imorting Seaborn library\n",
    "\n",
    "import os"
   ]
  },
  {
   "cell_type": "code",
   "execution_count": 22,
   "metadata": {
    "id": "hQZU8Uru114p"
   },
   "outputs": [],
   "source": [
    "data = pd.read_csv(\"parkinsons_updrs.data.csv\")"
   ]
  },
  {
   "cell_type": "code",
   "execution_count": 23,
   "metadata": {
    "id": "KV3VcJY02IhO"
   },
   "outputs": [],
   "source": [
    "data.drop([\"motor_UPDRS\"], axis=1, inplace=True)"
   ]
  },
  {
   "cell_type": "code",
   "execution_count": 24,
   "metadata": {
    "id": "XTNuhL5E2T2Q"
   },
   "outputs": [],
   "source": [
    "X = data.drop([\"total_UPDRS\"], axis=1) \n",
    "y = data.total_UPDRS.values"
   ]
  },
  {
   "cell_type": "code",
   "execution_count": 25,
   "metadata": {
    "id": "F-0hVjtm8i1b"
   },
   "outputs": [],
   "source": [
    "from sklearn.model_selection import train_test_split \n",
    "\n",
    "#Splitting the data for training and testing\n",
    "x_train, x_test, y_train, y_test = train_test_split(X, y, test_size=0.2, random_state=1)"
   ]
  },
  {
   "cell_type": "code",
   "execution_count": 26,
   "metadata": {
    "colab": {
     "base_uri": "https://localhost:8080/"
    },
    "id": "tJjOudv2Fa59",
    "outputId": "96ab4186-9caf-4c43-dcdf-fc6c42fd46f1"
   },
   "outputs": [
    {
     "data": {
      "text/plain": [
       "GridSearchCV(cv=5, estimator=KNeighborsRegressor(),\n",
       "             param_grid={'n_neighbors': array([ 2,  3,  4,  5,  6,  7,  8,  9, 10, 11, 12, 13, 14, 15, 16, 17, 18,\n",
       "       19, 20, 21, 22, 23, 24])})"
      ]
     },
     "execution_count": 26,
     "metadata": {},
     "output_type": "execute_result"
    }
   ],
   "source": [
    "from sklearn.neighbors import KNeighborsRegressor\n",
    "from sklearn.model_selection import GridSearchCV\n",
    "\n",
    "#finding optimal n value\n",
    "knn2 = KNeighborsRegressor()\n",
    "param_grid = {'n_neighbors': np.arange(2, 25)} #define the n_neighbors to test\n",
    "knn_gscv = GridSearchCV(knn2, param_grid, cv=5) #testing values for n_neighbors\n",
    "knn_gscv.fit(x_train, y_train)"
   ]
  },
  {
   "cell_type": "code",
   "execution_count": 27,
   "metadata": {
    "colab": {
     "base_uri": "https://localhost:8080/"
    },
    "id": "T4EXp0R6FzSP",
    "outputId": "5b8a6157-2169-4e6c-d1cf-9a75b6d97e99"
   },
   "outputs": [
    {
     "data": {
      "text/plain": [
       "{'n_neighbors': 2}"
      ]
     },
     "execution_count": 27,
     "metadata": {},
     "output_type": "execute_result"
    }
   ],
   "source": [
    "#print the best n \n",
    "knn_gscv.best_params_"
   ]
  },
  {
   "cell_type": "code",
   "execution_count": 28,
   "metadata": {
    "colab": {
     "base_uri": "https://localhost:8080/"
    },
    "id": "Jp4OJNnrvNck",
    "outputId": "b9de5e14-7fc0-48a6-cb20-036b07f1e931"
   },
   "outputs": [
    {
     "data": {
      "text/plain": [
       "KNeighborsRegressor(n_neighbors=2)"
      ]
     },
     "execution_count": 28,
     "metadata": {},
     "output_type": "execute_result"
    }
   ],
   "source": [
    "neigh = KNeighborsRegressor(n_neighbors=2) # vary neighbors\n",
    "neigh.fit(x_train, y_train)"
   ]
  },
  {
   "cell_type": "code",
   "execution_count": 29,
   "metadata": {
    "colab": {
     "base_uri": "https://localhost:8080/"
    },
    "id": "4s_m54PY-v11",
    "outputId": "ba0b0f33-299d-4b17-d2f4-21aed45cac80"
   },
   "outputs": [
    {
     "name": "stdout",
     "output_type": "stream",
     "text": [
      "Training R^2 for k Nearest Neighbour Model:  99.17421579214071\n",
      "Testing R^2 for k Nearest Neighbour Model:  96.52911459464542\n",
      "RMSE for Training Data:  0.9655167197492882\n",
      "RMSE for Testing Data:  2.0477736180643666\n"
     ]
    }
   ],
   "source": [
    "from sklearn.model_selection import cross_val_predict  # For K-Fold Cross Validation\n",
    "from math import sqrt  # For squareroot operation\n",
    "from sklearn.metrics import mean_squared_error  # For MSE\n",
    "from sklearn.metrics import r2_score  # For find accuracy with R2 Score\n",
    "\n",
    "y_pred_kNN_train = neigh.predict(x_train)\n",
    "y_pred_kNN_test = neigh.predict(x_test)\n",
    "\n",
    "r2_kNN_train = r2_score(y_train, y_pred_kNN_train)\n",
    "print(\"Training R^2 for k Nearest Neighbour Model: \", r2_kNN_train*100)\n",
    "\n",
    "r2_kNN_test = r2_score(y_test, y_pred_kNN_test)\n",
    "print(\"Testing R^2 for k Nearest Neighbour Model: \", r2_kNN_test*100)\n",
    "\n",
    "RMSE_kNN_train = sqrt(mean_squared_error(y_train, y_pred_kNN_train))\n",
    "print(\"RMSE for Training Data: \", RMSE_kNN_train)\n",
    "\n",
    "RMSE_kNN_test = sqrt(mean_squared_error(y_test, y_pred_kNN_test))\n",
    "print(\"RMSE for Testing Data: \", RMSE_kNN_test)"
   ]
  },
  {
   "cell_type": "code",
   "execution_count": 30,
   "metadata": {
    "id": "nIMWIHCKB-hP"
   },
   "outputs": [],
   "source": [
    "true_value = y_train\n",
    "predicted_value = y_pred_kNN_train"
   ]
  },
  {
   "cell_type": "code",
   "execution_count": 31,
   "metadata": {
    "colab": {
     "base_uri": "https://localhost:8080/",
     "height": 630
    },
    "id": "zSlKTEV7B-rC",
    "outputId": "27861234-3dc2-44f9-961d-975fc6aea42c"
   },
   "outputs": [
    {
     "data": {
      "image/png": "[encoded data removed]",
      "text/plain": [
       "<Figure size 720x720 with 1 Axes>"
      ]
     },
     "metadata": {
      "needs_background": "light"
     },
     "output_type": "display_data"
    }
   ],
   "source": [
    "plt.figure(figsize=(10,10))\n",
    "plt.scatter(true_value, predicted_value, c='crimson')\n",
    "plt.yscale('log')\n",
    "plt.xscale('log')\n",
    "\n",
    "p1 = max(max(predicted_value), max(true_value))\n",
    "p2 = min(min(predicted_value), min(true_value))\n",
    "plt.plot([p1, p2], [p1, p2], 'b-')\n",
    "plt.xlabel('True Values', fontsize=15)\n",
    "plt.ylabel('Predicted', fontsize=15)\n",
    "plt.title(\"k Nearest Neighbour: True Values vs Predicted \")\n",
    "plt.axis('equal')\n",
    "plt.show()"
   ]
  }
 ],
 "metadata": {
  "accelerator": "GPU",
  "colab": {
   "collapsed_sections": [],
   "name": "Regression_Model2_KNN.ipynb",
   "provenance": []
  },
  "kernelspec": {
   "display_name": "Python 3 (ipykernel)",
   "language": "python",
   "name": "python3"
  },
  "language_info": {
   "codemirror_mode": {
    "name": "ipython",
    "version": 3
   },
   "file_extension": ".py",
   "mimetype": "text/x-python",
   "name": "python",
   "nbconvert_exporter": "python",
   "pygments_lexer": "ipython3",
   "version": "3.9.7"
  }
 },
 "nbformat": 4,
 "nbformat_minor": 1
}
