{
  "nbformat": 4,
  "nbformat_minor": 0,
  "metadata": {
    "colab": {
      "name": "Regression_Model3_BaggedTrees.ipynb",
      "provenance": [],
      "collapsed_sections": []
    },
    "kernelspec": {
      "name": "python3",
      "display_name": "Python 3"
    },
    "language_info": {
      "name": "python"
    }
  },
  "cells": [
    {
      "cell_type": "code",
      "execution_count": 1,
      "metadata": {
        "id": "uDMhfXi8EKBn"
      },
      "outputs": [],
      "source": [
        "import numpy as np  # Importing NumPy library\n",
        "import pandas as pd  # Importing Pandas library\n",
        "import matplotlib.pyplot as plt  # Importing Matplotlib library's \"pyplot\" module\n",
        "import seaborn as sns  # Imorting Seaborn library\n",
        "\n",
        "import os"
      ]
    },
    {
      "cell_type": "code",
      "source": [
        "data = pd.read_csv(\"parkinsons_updrs.data.csv\")"
      ],
      "metadata": {
        "id": "YBTDEGYYFif_"
      },
      "execution_count": 2,
      "outputs": []
    },
    {
      "cell_type": "code",
      "source": [
        "data.drop([\"motor_UPDRS\"], axis=1, inplace=True)\n",
        "data.drop([\"subject#\"], axis=1, inplace=True)"
      ],
      "metadata": {
        "id": "g3or2lY2FkOl"
      },
      "execution_count": 3,
      "outputs": []
    },
    {
      "cell_type": "code",
      "source": [
        "X = data.drop([\"total_UPDRS\"], axis=1) \n",
        "y = data.total_UPDRS.values"
      ],
      "metadata": {
        "id": "9mCxLh82GRdP"
      },
      "execution_count": 4,
      "outputs": []
    },
    {
      "cell_type": "code",
      "source": [
        "from sklearn.ensemble import ExtraTreesRegressor\n",
        "from sklearn.feature_selection import SelectFromModel\n",
        "featsel = ExtraTreesRegressor(n_estimators=25) #can change the number of n_estimators\n",
        "featsel = featsel.fit(X, y)\n",
        "featsel.feature_importances_\n",
        "model = SelectFromModel(featsel, prefit=True)\n",
        "X_new = model.transform(X)"
      ],
      "metadata": {
        "colab": {
          "base_uri": "https://localhost:8080/"
        },
        "id": "3Wgl98Tr3jw5",
        "outputId": "316a6bad-7a9f-43b8-f636-bd4e6b5ff54a"
      },
      "execution_count": 5,
      "outputs": [
        {
          "output_type": "stream",
          "name": "stderr",
          "text": [
            "/usr/local/lib/python3.7/dist-packages/sklearn/base.py:444: UserWarning: X has feature names, but SelectFromModel was fitted without feature names\n",
            "  f\"X has feature names, but {self.__class__.__name__} was fitted without\"\n"
          ]
        }
      ]
    },
    {
      "cell_type": "code",
      "source": [
        "from sklearn.model_selection import train_test_split \n",
        "\n",
        "#Splitting the data for training and testing\n",
        "x_train, x_test, y_train, y_test = train_test_split(X_new, y, test_size=0.2, random_state=1)"
      ],
      "metadata": {
        "id": "P9djJkzLGTiC"
      },
      "execution_count": 6,
      "outputs": []
    },
    {
      "cell_type": "code",
      "source": [
        "from sklearn.ensemble import BaggingRegressor \n",
        "\n",
        "regr = BaggingRegressor(n_estimators=25, random_state=1) #using default DecisionTreeRegressor\n",
        "regr.fit(x_train, y_train)"
      ],
      "metadata": {
        "colab": {
          "base_uri": "https://localhost:8080/"
        },
        "id": "j8F0_QNJvijq",
        "outputId": "a785ea31-70be-4b72-f926-7a09c680eff9"
      },
      "execution_count": 7,
      "outputs": [
        {
          "output_type": "execute_result",
          "data": {
            "text/plain": [
              "BaggingRegressor(n_estimators=25, random_state=1)"
            ]
          },
          "metadata": {},
          "execution_count": 7
        }
      ]
    },
    {
      "cell_type": "code",
      "source": [
        "from sklearn.datasets import make_regression\n",
        "from math import sqrt  # For squareroot operation\n",
        "from sklearn.metrics import mean_squared_error  # For MSE\n",
        "from sklearn.metrics import r2_score  # For find accuracy with R2 Score\n",
        "\n",
        "y_pred_bagged_train = regr.predict(x_train)\n",
        "y_pred_bagged_test = regr.predict(x_test)\n",
        "\n",
        "r2_bagged_train = r2_score(y_train, y_pred_bagged_train)\n",
        "print(\"Training R^2 for Bagged Trees Model: \", r2_bagged_train*100)\n",
        "\n",
        "r2_bagged_test = r2_score(y_test, y_pred_bagged_test)\n",
        "print(\"Testing R^2 for Bagged Trees Model: \", r2_bagged_test*100)\n",
        "\n",
        "RMSE_bagged_train = sqrt(mean_squared_error(y_train, y_pred_bagged_train))\n",
        "print(\"RMSE for Training Data: \", RMSE_bagged_train)\n",
        "\n",
        "RMSE_bagged_test = sqrt(mean_squared_error(y_test, y_pred_bagged_test))\n",
        "print(\"RMSE for Testing Data: \", RMSE_bagged_test)"
      ],
      "metadata": {
        "colab": {
          "base_uri": "https://localhost:8080/"
        },
        "id": "CVNAv2xFGkaA",
        "outputId": "cddd423e-4889-4312-d4e2-c10467132e27"
      },
      "execution_count": 8,
      "outputs": [
        {
          "output_type": "stream",
          "name": "stdout",
          "text": [
            "Training R^2 for Bagged Trees Model:  99.4128254443024\n",
            "Testing R^2 for Bagged Trees Model:  95.62135329467016\n",
            "RMSE for Training Data:  0.8141606834933979\n",
            "RMSE for Testing Data:  2.300020773649176\n"
          ]
        }
      ]
    },
    {
      "cell_type": "code",
      "source": [
        "true_value = y_train\n",
        "predicted_value = y_pred_bagged_train"
      ],
      "metadata": {
        "id": "yV8RqDnMDl7X"
      },
      "execution_count": 9,
      "outputs": []
    },
    {
      "cell_type": "code",
      "source": [
        "plt.figure(figsize=(10,10))\n",
        "plt.scatter(true_value, predicted_value, c='crimson')\n",
        "plt.yscale('log')\n",
        "plt.xscale('log')\n",
        "\n",
        "p1 = max(max(predicted_value), max(true_value))\n",
        "p2 = min(min(predicted_value), min(true_value))\n",
        "plt.plot([p1, p2], [p1, p2], 'b-')\n",
        "plt.xlabel('True Values', fontsize=15)\n",
        "plt.ylabel('Predicted', fontsize=15)\n",
        "plt.title(\"Bagged Trees: True Values vs Predicted \")\n",
        "plt.axis('equal')\n",
        "plt.show()"
      ],
      "metadata": {
        "id": "RkJf3Py3Io7x",
        "colab": {
          "base_uri": "https://localhost:8080/",
          "height": 630
        },
        "outputId": "d0f5e4d0-1753-415e-c4ed-2cb58d8e68ab"
      },
      "execution_count": 10,
      "outputs": [
        {
          "output_type": "display_data",
          "data": {
            "text/plain": [
              "<Figure size 720x720 with 1 Axes>"
            ],
            "image/png": "[encoded data removed]"
          },
          "metadata": {
            "needs_background": "light"
          }
        }
      ]
    }
  ]
}