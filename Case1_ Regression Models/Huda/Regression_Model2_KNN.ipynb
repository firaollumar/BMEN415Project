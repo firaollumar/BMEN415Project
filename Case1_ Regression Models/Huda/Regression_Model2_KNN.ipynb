{
  "nbformat": 4,
  "nbformat_minor": 0,
  "metadata": {
    "colab": {
      "name": "Regression_Model2_KNN.ipynb",
      "provenance": [],
      "collapsed_sections": []
    },
    "kernelspec": {
      "name": "python3",
      "display_name": "Python 3"
    },
    "language_info": {
      "name": "python"
    },
    "accelerator": "GPU"
  },
  "cells": [
    {
      "cell_type": "code",
      "execution_count": 1,
      "metadata": {
        "id": "1ZMdeeD10L_a"
      },
      "outputs": [],
      "source": [
        "import numpy as np  # Importing NumPy library\n",
        "import pandas as pd  # Importing Pandas library\n",
        "import matplotlib.pyplot as plt  # Importing Matplotlib library's \"pyplot\" module\n",
        "import seaborn as sns  # Imorting Seaborn library\n",
        "\n",
        "import os"
      ]
    },
    {
      "cell_type": "code",
      "source": [
        "data = pd.read_csv(\"parkinsons_updrs.data.csv\") "
      ],
      "metadata": {
        "id": "hQZU8Uru114p"
      },
      "execution_count": 2,
      "outputs": []
    },
    {
      "cell_type": "code",
      "source": [
        "data.drop([\"motor_UPDRS\"], axis=1, inplace=True)\n",
        "data.drop([\"subject#\"], axis=1, inplace=True)"
      ],
      "metadata": {
        "id": "KV3VcJY02IhO"
      },
      "execution_count": 3,
      "outputs": []
    },
    {
      "cell_type": "code",
      "source": [
        "X = data.drop([\"total_UPDRS\"], axis=1) \n",
        "y = data.total_UPDRS.values"
      ],
      "metadata": {
        "id": "XTNuhL5E2T2Q"
      },
      "execution_count": 4,
      "outputs": []
    },
    {
      "cell_type": "code",
      "source": [
        "from sklearn.model_selection import train_test_split \n",
        "\n",
        "#Splitting the data for training and testing\n",
        "x_train, x_test, y_train, y_test = train_test_split(X, y, test_size=0.2, random_state=1)"
      ],
      "metadata": {
        "id": "F-0hVjtm8i1b"
      },
      "execution_count": 5,
      "outputs": []
    },
    {
      "cell_type": "code",
      "source": [
        "from sklearn.neighbors import KNeighborsRegressor\n",
        "from sklearn.model_selection import GridSearchCV\n",
        "\n",
        "#finding optimal n value\n",
        "knn2 = KNeighborsRegressor()\n",
        "param_grid = {'n_neighbors': np.arange(2, 25)} #define the n_neighbors to test\n",
        "knn_gscv = GridSearchCV(knn2, param_grid, cv=5) #testing values for n_neighbors\n",
        "knn_gscv.fit(x_train, y_train)"
      ],
      "metadata": {
        "id": "tJjOudv2Fa59",
        "colab": {
          "base_uri": "https://localhost:8080/"
        },
        "outputId": "c89b8fd6-2de6-4e75-9d73-89cff1b317e2"
      },
      "execution_count": 6,
      "outputs": [
        {
          "output_type": "execute_result",
          "data": {
            "text/plain": [
              "GridSearchCV(cv=5, estimator=KNeighborsRegressor(),\n",
              "             param_grid={'n_neighbors': array([ 2,  3,  4,  5,  6,  7,  8,  9, 10, 11, 12, 13, 14, 15, 16, 17, 18,\n",
              "       19, 20, 21, 22, 23, 24])})"
            ]
          },
          "metadata": {},
          "execution_count": 6
        }
      ]
    },
    {
      "cell_type": "code",
      "source": [
        "#print the best n \n",
        "knn_gscv.best_params_"
      ],
      "metadata": {
        "id": "T4EXp0R6FzSP",
        "colab": {
          "base_uri": "https://localhost:8080/"
        },
        "outputId": "51ea588a-3c82-4829-9b3d-fe1af7bae437"
      },
      "execution_count": 7,
      "outputs": [
        {
          "output_type": "execute_result",
          "data": {
            "text/plain": [
              "{'n_neighbors': 2}"
            ]
          },
          "metadata": {},
          "execution_count": 7
        }
      ]
    },
    {
      "cell_type": "code",
      "source": [
        "neigh = KNeighborsRegressor(n_neighbors=2) # vary neighbors\n",
        "neigh.fit(x_train, y_train)"
      ],
      "metadata": {
        "id": "Jp4OJNnrvNck",
        "colab": {
          "base_uri": "https://localhost:8080/"
        },
        "outputId": "08765533-9765-4be5-cb6c-26aa8714e915"
      },
      "execution_count": 8,
      "outputs": [
        {
          "output_type": "execute_result",
          "data": {
            "text/plain": [
              "KNeighborsRegressor(n_neighbors=2)"
            ]
          },
          "metadata": {},
          "execution_count": 8
        }
      ]
    },
    {
      "cell_type": "code",
      "source": [
        "from sklearn.model_selection import cross_val_predict  # For K-Fold Cross Validation\n",
        "from math import sqrt  # For squareroot operation\n",
        "from sklearn.metrics import mean_squared_error  # For MSE\n",
        "from sklearn.metrics import r2_score  # For find accuracy with R2 Score\n",
        "\n",
        "y_pred_kNN_train = neigh.predict(x_train)\n",
        "y_pred_kNN_test = neigh.predict(x_test)\n",
        "\n",
        "r2_kNN_train = r2_score(y_train, y_pred_kNN_train)\n",
        "print(\"Training R^2 for k Nearest Neighbour Model: \", r2_kNN_train*100)\n",
        "\n",
        "r2_kNN_test = r2_score(y_test, y_pred_kNN_test)\n",
        "print(\"Testing R^2 for k Nearest Neighbour Model: \", r2_kNN_test*100)\n",
        "\n",
        "RMSE_kNN_train = sqrt(mean_squared_error(y_train, y_pred_kNN_train))\n",
        "print(\"RMSE for Training Data: \", RMSE_kNN_train)\n",
        "\n",
        "RMSE_kNN_test = sqrt(mean_squared_error(y_test, y_pred_kNN_test))\n",
        "print(\"RMSE for Testing Data: \", RMSE_kNN_test)"
      ],
      "metadata": {
        "id": "4s_m54PY-v11",
        "colab": {
          "base_uri": "https://localhost:8080/"
        },
        "outputId": "1cf2e4a9-771d-4d89-c6a6-b5a43ce21630"
      },
      "execution_count": 9,
      "outputs": [
        {
          "output_type": "stream",
          "name": "stdout",
          "text": [
            "Training R^2 for k Nearest Neighbour Model:  92.25711765274035\n",
            "Testing R^2 for k Nearest Neighbour Model:  76.44821084705285\n",
            "RMSE for Training Data:  2.9564997206466144\n",
            "RMSE for Testing Data:  5.334254819672167\n"
          ]
        }
      ]
    },
    {
      "cell_type": "code",
      "source": [
        "true_value = y_train\n",
        "predicted_value = y_pred_kNN_train"
      ],
      "metadata": {
        "id": "nIMWIHCKB-hP"
      },
      "execution_count": 10,
      "outputs": []
    },
    {
      "cell_type": "code",
      "source": [
        "plt.figure(figsize=(10,10))\n",
        "plt.scatter(true_value, predicted_value, c='crimson')\n",
        "plt.yscale('log')\n",
        "plt.xscale('log')\n",
        "\n",
        "p1 = max(max(predicted_value), max(true_value))\n",
        "p2 = min(min(predicted_value), min(true_value))\n",
        "plt.plot([p1, p2], [p1, p2], 'b-')\n",
        "plt.xlabel('True Values', fontsize=15)\n",
        "plt.ylabel('Predicted', fontsize=15)\n",
        "plt.title(\"k Nearest Neighbour: True Values vs Predicted \")\n",
        "plt.axis('equal')\n",
        "plt.show()"
      ],
      "metadata": {
        "id": "zSlKTEV7B-rC",
        "colab": {
          "base_uri": "https://localhost:8080/",
          "height": 630
        },
        "outputId": "3c5a77b8-68ec-4430-e6b7-87a2d142dcee"
      },
      "execution_count": 11,
      "outputs": [
        {
          "output_type": "display_data",
          "data": {
            "text/plain": [
              "<Figure size 720x720 with 1 Axes>"
            ],
            "image/png": "[encoded data removed]"
          },
          "metadata": {
            "needs_background": "light"
          }
        }
      ]
    }
  ]
}