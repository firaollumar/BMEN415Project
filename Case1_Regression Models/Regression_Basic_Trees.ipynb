{
  "nbformat": 4,
  "nbformat_minor": 0,
  "metadata": {
    "colab": {
      "name": "Regression - Basic Trees.ipynb",
      "provenance": [],
      "collapsed_sections": []
    },
    "kernelspec": {
      "name": "python3",
      "display_name": "Python 3"
    },
    "language_info": {
      "name": "python"
    }
  },
  "cells": [
    {
      "cell_type": "code",
      "execution_count": 1,
      "metadata": {
        "id": "CD6xWlzfGI4r"
      },
      "outputs": [],
      "source": [
        "import pandas as pd #Importing pandas library\n",
        "import numpy as np #Importing numpy library\n",
        "import matplotlib.pyplot as plt #Importing Matplotlib library's \"pyplot\"\n",
        "import seaborn as sns  # Imorting Seaborn library\n",
        "import os"
      ]
    },
    {
      "cell_type": "code",
      "source": [
        "data = pd.read_csv(\"parkinsons_updrs.data.csv\")\n",
        "data.drop([\"motor_UPDRS\"], axis=1, inplace=True)"
      ],
      "metadata": {
        "id": "L45cyUKXGVY5"
      },
      "execution_count": 2,
      "outputs": []
    },
    {
      "cell_type": "code",
      "source": [
        "X = data.drop([\"total_UPDRS\"], axis=1) \n",
        "y = data.total_UPDRS.values"
      ],
      "metadata": {
        "id": "Y9o_PKjJGtft"
      },
      "execution_count": 3,
      "outputs": []
    },
    {
      "cell_type": "code",
      "source": [
        "from sklearn.ensemble import ExtraTreesRegressor\n",
        "from sklearn.feature_selection import SelectFromModel\n",
        "X.shape\n",
        "featsel = ExtraTreesRegressor(n_estimators=50) #might need to change this number\n",
        "featsel = featsel.fit(X, y)\n",
        "featsel.feature_importances_  \n",
        "model = SelectFromModel(featsel, prefit=True)\n",
        "X_new = model.transform(X)\n",
        "X_new.shape               "
      ],
      "metadata": {
        "colab": {
          "base_uri": "https://localhost:8080/"
        },
        "id": "TJRvG7pzKay-",
        "outputId": "6aad71c8-6b4b-43f7-e82d-eed3f43db7fc"
      },
      "execution_count": 4,
      "outputs": [
        {
          "output_type": "stream",
          "name": "stderr",
          "text": [
            "/usr/local/lib/python3.7/dist-packages/sklearn/base.py:444: UserWarning: X has feature names, but SelectFromModel was fitted without feature names\n",
            "  f\"X has feature names, but {self.__class__.__name__} was fitted without\"\n"
          ]
        },
        {
          "output_type": "execute_result",
          "data": {
            "text/plain": [
              "(5875, 4)"
            ]
          },
          "metadata": {},
          "execution_count": 4
        }
      ]
    },
    {
      "cell_type": "code",
      "source": [
        "from sklearn.model_selection import train_test_split \n",
        "x_train, x_test, y_train, y_test = train_test_split(X_new, y, test_size=0.2, random_state=1)"
      ],
      "metadata": {
        "id": "CqVWFGTDGyOK"
      },
      "execution_count": 5,
      "outputs": []
    },
    {
      "cell_type": "code",
      "source": [
        "from sklearn import tree\n",
        "from sklearn.tree import DecisionTreeRegressor\n",
        "\n",
        "btree = tree.DecisionTreeRegressor()\n",
        "btree = btree.fit(x_train, y_train)\n",
        "\n",
        "tree.plot_tree(btree)\n",
        "\n",
        "btree.predict(x_test)\n"
      ],
      "metadata": {
        "colab": {
          "base_uri": "https://localhost:8080/",
          "height": 263
        },
        "id": "tpJqVpNVHEjU",
        "outputId": "def59109-a4cd-44df-db21-18e65877a718"
      },
      "execution_count": 6,
      "outputs": [
        {
          "output_type": "execute_result",
          "data": {
            "text/plain": [
              "array([26.23 , 26.23 , 20.867, ..., 22.644, 47.561, 38.353])"
            ]
          },
          "metadata": {},
          "execution_count": 6
        },
        {
          "output_type": "display_data",
          "data": {
            "text/plain": [
              "<Figure size 432x288 with 1 Axes>"
            ],
            "image/png": "[encoded data removed]"
          },
          "metadata": {
            "needs_background": "light"
          }
        }
      ]
    },
    {
      "cell_type": "code",
      "source": [
        "btree.score(x_test, y_test)"
      ],
      "metadata": {
        "colab": {
          "base_uri": "https://localhost:8080/"
        },
        "id": "KeZMBBP9XcuP",
        "outputId": "4ae75fd9-12e3-4b95-bbbf-25daa51002be"
      },
      "execution_count": 7,
      "outputs": [
        {
          "output_type": "execute_result",
          "data": {
            "text/plain": [
              "0.9999999996925744"
            ]
          },
          "metadata": {},
          "execution_count": 7
        }
      ]
    },
    {
      "cell_type": "code",
      "source": [
        "from sklearn.metrics import r2_score  # For find accuracy with R2 Score\n",
        "from sklearn.metrics import mean_squared_error  # For MSE\n",
        "from math import sqrt  # For squareroot operation\n",
        "\n",
        "y_pred_train = btree.predict(x_train)\n",
        "y_pred_test = btree.predict(x_test)\n",
        "\n",
        "accuracy_train = r2_score(y_train, y_pred_train)\n",
        "print(\"Training Accuracy for Basic Tree: \", accuracy_train)\n",
        "\n",
        "accuracy_test = r2_score(y_test, y_pred_test)\n",
        "print(\"Testing Accuracy for Multiple Basic Tree: \", accuracy_test)\n",
        "\n",
        "RMSE_train = sqrt(mean_squared_error(y_train, y_pred_train))\n",
        "print(\"RMSE for Training Data: \", RMSE_train)\n",
        "\n",
        "RMSE_test = sqrt(mean_squared_error(y_test, y_pred_test))\n",
        "print(\"RMSE for Testing Data: \", RMSE_test)"
      ],
      "metadata": {
        "colab": {
          "base_uri": "https://localhost:8080/"
        },
        "id": "8nbnA2grYajk",
        "outputId": "b7ec1407-3d37-4d44-df2d-9642af440ba6"
      },
      "execution_count": 8,
      "outputs": [
        {
          "output_type": "stream",
          "name": "stdout",
          "text": [
            "Training Accuracy for Basic Tree:  0.999999999881474\n",
            "Testing Accuracy for Multiple Basic Tree:  0.9999999996925744\n",
            "RMSE for Training Data:  0.00011567332946243955\n",
            "RMSE for Testing Data:  0.00019272225510372584\n"
          ]
        }
      ]
    }
  ]
}