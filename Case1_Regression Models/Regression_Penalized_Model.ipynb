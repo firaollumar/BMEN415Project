{
  "nbformat": 4,
  "nbformat_minor": 0,
  "metadata": {
    "colab": {
      "name": "Regression - Penalized Model.ipynb",
      "provenance": [],
      "collapsed_sections": []
    },
    "kernelspec": {
      "name": "python3",
      "display_name": "Python 3"
    },
    "language_info": {
      "name": "python"
    }
  },
  "cells": [
    {
      "cell_type": "code",
      "execution_count": 1,
      "metadata": {
        "id": "IrcLkg8JozA2"
      },
      "outputs": [],
      "source": [
        "import pandas as pd #Importing pandas library\n",
        "import numpy as np #Importing numpy library\n",
        "import matplotlib.pyplot as plt #Importing Matplotlib library's \"pyplot\"\n",
        "import seaborn as sns  # Imorting Seaborn library\n",
        "import os"
      ]
    },
    {
      "cell_type": "code",
      "source": [
        "data = pd.read_csv(\"parkinsons_updrs.data.csv\")\n",
        "data.drop([\"motor_UPDRS\"], axis=1, inplace=True)"
      ],
      "metadata": {
        "id": "SbUN3oV3o_G8"
      },
      "execution_count": 2,
      "outputs": []
    },
    {
      "cell_type": "code",
      "source": [
        "X = data.drop([\"total_UPDRS\"], axis=1) \n",
        "y = data.total_UPDRS.values"
      ],
      "metadata": {
        "id": "Yw5mpTYbpDPp"
      },
      "execution_count": 3,
      "outputs": []
    },
    {
      "cell_type": "code",
      "source": [
        "from sklearn.model_selection import train_test_split \n",
        "x_train, x_test, y_train, y_test = train_test_split(X, y, test_size=0.2, random_state=1)"
      ],
      "metadata": {
        "id": "65V7e-6fpHF0"
      },
      "execution_count": 4,
      "outputs": []
    },
    {
      "cell_type": "code",
      "source": [
        "from sklearn import linear_model\n",
        "\n",
        "#ridge with cross validation\n",
        "from sklearn.linear_model import RidgeCV\n",
        "plr = RidgeCV(alphas=[1e-3, 1e-2, 1e-1, 1])\n",
        "plr.fit(x_train, y_train)\n",
        "plr.alpha_\n",
        "plr.predict(x_test)\n",
        "\n",
        "#elastic net \n",
        "#from sklearn.linear_model import ElasticNet\n",
        "#plr = ElasticNet(random_state=0)\n",
        "#plr.fit(x_train, y_train)\n",
        "#plr.predict(x_test)"
      ],
      "metadata": {
        "colab": {
          "base_uri": "https://localhost:8080/"
        },
        "id": "8jmuY6XEp-70",
        "outputId": "0a29a238-f8fe-47ed-95bc-8b64b8d271e7"
      },
      "execution_count": 5,
      "outputs": [
        {
          "output_type": "execute_result",
          "data": {
            "text/plain": [
              "array([26.37136871, 31.50815077, 27.48782884, ..., 29.3251279 ,\n",
              "       35.91086077, 30.77428201])"
            ]
          },
          "metadata": {},
          "execution_count": 5
        }
      ]
    },
    {
      "cell_type": "code",
      "source": [
        "plr.score(x_test, y_test)"
      ],
      "metadata": {
        "colab": {
          "base_uri": "https://localhost:8080/"
        },
        "id": "TY9VezaRqWoU",
        "outputId": "657ceb48-1598-46ea-c5c8-404caec299c8"
      },
      "execution_count": 6,
      "outputs": [
        {
          "output_type": "execute_result",
          "data": {
            "text/plain": [
              "0.2605525498681168"
            ]
          },
          "metadata": {},
          "execution_count": 6
        }
      ]
    },
    {
      "cell_type": "code",
      "source": [
        "from sklearn.metrics import r2_score  # For find accuracy with R2 Score\n",
        "from sklearn.metrics import mean_squared_error  # For MSE\n",
        "from math import sqrt  # For squareroot operation\n",
        "\n",
        "y_pred_train = plr.predict(x_train)\n",
        "y_pred_test = plr.predict(x_test)\n",
        "\n",
        "accuracy_train = r2_score(y_train, y_pred_train)\n",
        "print(\"Training Accuracy for Linear Penalized Model: \", accuracy_train)\n",
        "\n",
        "accuracy_test = r2_score(y_test, y_pred_test)\n",
        "print(\"Testing Accuracy for Linear Penalized Model: \", accuracy_test)\n",
        "\n",
        "RMSE_train = sqrt(mean_squared_error(y_train, y_pred_train))\n",
        "print(\"RMSE for Training Data: \", RMSE_train)\n",
        "\n",
        "RMSE_test = sqrt(mean_squared_error(y_test, y_pred_test))\n",
        "print(\"RMSE for Testing Data: \", RMSE_test)"
      ],
      "metadata": {
        "colab": {
          "base_uri": "https://localhost:8080/"
        },
        "id": "5S9DG60eqdoM",
        "outputId": "258613ed-318d-463c-d217-3e8a92546f82"
      },
      "execution_count": 8,
      "outputs": [
        {
          "output_type": "stream",
          "name": "stdout",
          "text": [
            "Training Accuracy for Linear Penalized Model:  0.2466663668350192\n",
            "Testing Accuracy for Linear Penalized Model:  0.2605525498681168\n",
            "RMSE for Training Data:  9.2218953772677\n",
            "RMSE for Testing Data:  9.451820466651407\n"
          ]
        }
      ]
    }
  ]
}