{
  "nbformat": 4,
  "nbformat_minor": 0,
  "metadata": {
    "colab": {
      "name": "Regression_Model2_KNN.ipynb",
      "provenance": [],
      "collapsed_sections": []
    },
    "kernelspec": {
      "name": "python3",
      "display_name": "Python 3"
    },
    "language_info": {
      "name": "python"
    },
    "accelerator": "GPU"
  },
  "cells": [
    {
      "cell_type": "code",
      "execution_count": 12,
      "metadata": {
        "id": "1ZMdeeD10L_a"
      },
      "outputs": [],
      "source": [
        "import numpy as np  # Importing NumPy library\n",
        "import pandas as pd  # Importing Pandas library\n",
        "import matplotlib.pyplot as plt  # Importing Matplotlib library's \"pyplot\" module\n",
        "import seaborn as sns  # Imorting Seaborn library\n",
        "\n",
        "import os"
      ]
    },
    {
      "cell_type": "code",
      "source": [
        "data = pd.read_csv(\"parkinsons_updrs.data.csv\")"
      ],
      "metadata": {
        "id": "hQZU8Uru114p"
      },
      "execution_count": 13,
      "outputs": []
    },
    {
      "cell_type": "code",
      "source": [
        "data.drop([\"motor_UPDRS\"], axis=1, inplace=True)"
      ],
      "metadata": {
        "id": "KV3VcJY02IhO"
      },
      "execution_count": 14,
      "outputs": []
    },
    {
      "cell_type": "code",
      "source": [
        "X = data.drop([\"total_UPDRS\"], axis=1) \n",
        "y = data.total_UPDRS.values"
      ],
      "metadata": {
        "id": "XTNuhL5E2T2Q"
      },
      "execution_count": 15,
      "outputs": []
    },
    {
      "cell_type": "code",
      "source": [
        "from sklearn.model_selection import train_test_split \n",
        "\n",
        "x_train, x_test, y_train, y_test = train_test_split(X, y, test_size=0.2, random_state=1)"
      ],
      "metadata": {
        "id": "F-0hVjtm8i1b"
      },
      "execution_count": 16,
      "outputs": []
    },
    {
      "cell_type": "code",
      "source": [
        "from sklearn.neighbors import KNeighborsRegressor\n",
        "neigh = KNeighborsRegressor(n_neighbors=2) # vary neighbors\n",
        "neigh.fit(x_train, y_train)"
      ],
      "metadata": {
        "colab": {
          "base_uri": "https://localhost:8080/"
        },
        "id": "Jp4OJNnrvNck",
        "outputId": "a613dd34-d49e-4b3c-d686-3b07906c3093"
      },
      "execution_count": 17,
      "outputs": [
        {
          "output_type": "execute_result",
          "data": {
            "text/plain": [
              "KNeighborsRegressor(n_neighbors=2)"
            ]
          },
          "metadata": {},
          "execution_count": 17
        }
      ]
    },
    {
      "cell_type": "code",
      "source": [
        "from sklearn.model_selection import cross_val_predict  # For K-Fold Cross Validation\n",
        "from math import sqrt  # For squareroot operation\n",
        "from sklearn.metrics import mean_squared_error  # For MSE\n",
        "from sklearn.metrics import r2_score  # For find accuracy with R2 Score\n",
        "\n",
        "y_pred_kNN_train = neigh.predict(x_train)\n",
        "y_pred_kNN_test = neigh.predict(x_test)\n",
        "\n",
        "r2_kNN_train = r2_score(y_train, y_pred_kNN_train)\n",
        "print(\"Training R^2 for k Nearest Neighbour Model: \", r2_kNN_train)\n",
        "\n",
        "r2_kNN_test = r2_score(y_test, y_pred_kNN_test)\n",
        "print(\"Testing R^2 for k Nearest Neighbour Model: \", r2_kNN_test)\n",
        "\n",
        "RMSE_kNN_train = sqrt(mean_squared_error(y_train, y_pred_kNN_train))\n",
        "print(\"RMSE for Training Data: \", RMSE_kNN_train)\n",
        "\n",
        "RMSE_kNN_test = sqrt(mean_squared_error(y_test, y_pred_kNN_test))\n",
        "print(\"RMSE for Testing Data: \", RMSE_kNN_test)"
      ],
      "metadata": {
        "colab": {
          "base_uri": "https://localhost:8080/"
        },
        "id": "4s_m54PY-v11",
        "outputId": "117ab8ab-24ef-4c0b-fbae-6dd24f2e0361"
      },
      "execution_count": 18,
      "outputs": [
        {
          "output_type": "stream",
          "name": "stdout",
          "text": [
            "Training R^2 for k Nearest Neighbour Model:  0.9917421579214071\n",
            "Testing R^2 for k Nearest Neighbour Model:  0.9652911459464542\n",
            "RMSE for Training Data:  0.9655167197492882\n",
            "RMSE for Testing Data:  2.0477736180643666\n"
          ]
        }
      ]
    }
  ]
}