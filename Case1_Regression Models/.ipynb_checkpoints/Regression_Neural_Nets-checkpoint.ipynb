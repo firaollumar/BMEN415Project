{
 "cells": [
  {
   "cell_type": "code",
   "execution_count": 1,
   "metadata": {
    "id": "ZNNcMSJBwLk3"
   },
   "outputs": [],
   "source": [
    "import pandas as pd #Importing pandas library\n",
    "import numpy as np #Importing numpy library\n",
    "import matplotlib.pyplot as plt #Importing Matplotlib library's \"pyplot\"\n",
    "import seaborn as sns  # Imorting Seaborn library\n",
    "import os"
   ]
  },
  {
   "cell_type": "code",
   "execution_count": 2,
   "metadata": {
    "id": "35TdZiElz81A"
   },
   "outputs": [],
   "source": [
    "data = pd.read_csv(\"parkinsons_updrs.data.csv\")\n",
    "data.drop([\"motor_UPDRS\"], axis=1, inplace=True)"
   ]
  },
  {
   "cell_type": "code",
   "execution_count": 3,
   "metadata": {
    "id": "n1SQtSSm3Yua"
   },
   "outputs": [],
   "source": [
    "X = data.drop([\"total_UPDRS\"], axis=1) \n",
    "y = data.total_UPDRS.values"
   ]
  },
  {
   "cell_type": "code",
   "execution_count": 4,
   "metadata": {
    "id": "5w7lTwvv3ijV"
   },
   "outputs": [],
   "source": [
    "#Splitting the data for training and testing\n",
    "from sklearn.model_selection import train_test_split \n",
    "x_train, x_test, y_train, y_test = train_test_split(X, y, test_size=0.2, random_state=1)"
   ]
  },
  {
   "cell_type": "code",
   "execution_count": 7,
   "metadata": {
    "colab": {
     "base_uri": "https://localhost:8080/"
    },
    "id": "HQzYO5aY3wbw",
    "outputId": "53429cc5-6c88-4497-87f7-ad09e0c83ad2"
   },
   "outputs": [
    {
     "data": {
      "text/plain": [
       "array([16.64149581, 21.91448766, 21.25426993, ..., 21.79962101,\n",
       "       38.44919628, 34.99173908])"
      ]
     },
     "execution_count": 7,
     "metadata": {},
     "output_type": "execute_result"
    }
   ],
   "source": [
    "from sklearn import neural_network\n",
    "from sklearn.neural_network import MLPRegressor\n",
    "\n",
    "regr = MLPRegressor(random_state=1, max_iter=1000).fit(x_train, y_train)\n",
    "regr.predict(x_test)\n"
   ]
  },
  {
   "cell_type": "code",
   "execution_count": 8,
   "metadata": {
    "colab": {
     "base_uri": "https://localhost:8080/"
    },
    "id": "UPK2hyqw-TYl",
    "outputId": "695a6018-0e7d-4850-9fa9-1fe3b1f91f84"
   },
   "outputs": [
    {
     "data": {
      "text/plain": [
       "0.7123561927919422"
      ]
     },
     "execution_count": 8,
     "metadata": {},
     "output_type": "execute_result"
    }
   ],
   "source": [
    "regr.score(x_test, y_test)"
   ]
  },
  {
   "cell_type": "code",
   "execution_count": 9,
   "metadata": {
    "colab": {
     "base_uri": "https://localhost:8080/"
    },
    "id": "QxwhPGsVG8Hl",
    "outputId": "7d2ab5c0-b0d8-4f14-cbdd-465bd45c9d18"
   },
   "outputs": [
    {
     "name": "stdout",
     "output_type": "stream",
     "text": [
      "Training Accuracy for Neural Net:  0.7197661209093182\n",
      "Testing Accuracy for Neural Net:  0.7123561927919422\n",
      "RMSE for Training Data:  5.624537691311968\n",
      "RMSE for Testing Data:  5.8950748014276\n"
     ]
    }
   ],
   "source": [
    "from sklearn.metrics import r2_score  # For find accuracy with R2 Score\n",
    "from sklearn.metrics import mean_squared_error  # For MSE\n",
    "from math import sqrt  # For squareroot operation\n",
    "\n",
    "y_pred_train = regr.predict(x_train)\n",
    "y_pred_test = regr.predict(x_test)\n",
    "\n",
    "accuracy_train = r2_score(y_train, y_pred_train)\n",
    "print(\"Training Accuracy for Neural Net: \", accuracy_train)\n",
    "\n",
    "accuracy_test = r2_score(y_test, y_pred_test)\n",
    "print(\"Testing Accuracy for Neural Net: \", accuracy_test)\n",
    "\n",
    "RMSE_train = sqrt(mean_squared_error(y_train, y_pred_train))\n",
    "print(\"RMSE for Training Data: \", RMSE_train)\n",
    "\n",
    "RMSE_test = sqrt(mean_squared_error(y_test, y_pred_test))\n",
    "print(\"RMSE for Testing Data: \", RMSE_test)"
   ]
  },
  {
   "cell_type": "code",
   "execution_count": null,
   "metadata": {},
   "outputs": [],
   "source": []
  }
 ],
 "metadata": {
  "colab": {
   "collapsed_sections": [],
   "name": "Regression - Neural Nets.ipynb",
   "provenance": []
  },
  "kernelspec": {
   "display_name": "Python 3",
   "language": "python",
   "name": "python3"
  },
  "language_info": {
   "codemirror_mode": {
    "name": "ipython",
    "version": 3
   },
   "file_extension": ".py",
   "mimetype": "text/x-python",
   "name": "python",
   "nbconvert_exporter": "python",
   "pygments_lexer": "ipython3",
   "version": "3.8.5"
  }
 },
 "nbformat": 4,
 "nbformat_minor": 1
}
