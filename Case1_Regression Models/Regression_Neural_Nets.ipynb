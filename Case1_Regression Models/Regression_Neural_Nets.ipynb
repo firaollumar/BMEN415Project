{
  "nbformat": 4,
  "nbformat_minor": 0,
  "metadata": {
    "colab": {
      "name": "Regression - Neural Nets.ipynb",
      "provenance": [],
      "collapsed_sections": []
    },
    "kernelspec": {
      "name": "python3",
      "display_name": "Python 3"
    },
    "language_info": {
      "name": "python"
    }
  },
  "cells": [
    {
      "cell_type": "code",
      "execution_count": 1,
      "metadata": {
        "id": "ZNNcMSJBwLk3"
      },
      "outputs": [],
      "source": [
        "import pandas as pd #Importing pandas library\n",
        "import numpy as np #Importing numpy library\n",
        "import matplotlib.pyplot as plt #Importing Matplotlib library's \"pyplot\"\n",
        "import seaborn as sns  # Imorting Seaborn library\n",
        "import os\n"
      ]
    },
    {
      "cell_type": "code",
      "source": [
        "data = pd.read_csv(\"parkinsons_updrs.data.csv\")\n",
        "data.drop([\"motor_UPDRS\"], axis=1, inplace=True)"
      ],
      "metadata": {
        "id": "35TdZiElz81A"
      },
      "execution_count": 3,
      "outputs": []
    },
    {
      "cell_type": "code",
      "source": [
        "X = data.drop([\"total_UPDRS\"], axis=1) \n",
        "y = data.total_UPDRS.values"
      ],
      "metadata": {
        "id": "n1SQtSSm3Yua"
      },
      "execution_count": 5,
      "outputs": []
    },
    {
      "cell_type": "code",
      "source": [
        "from sklearn.model_selection import train_test_split \n",
        "x_train, x_test, y_train, y_test = train_test_split(X, y, test_size=0.2, random_state=1)"
      ],
      "metadata": {
        "id": "5w7lTwvv3ijV"
      },
      "execution_count": 6,
      "outputs": []
    },
    {
      "cell_type": "code",
      "source": [
        "from sklearn import neural_network\n",
        "from sklearn.neural_network import MLPRegressor\n",
        "\n",
        "regr = MLPRegressor(random_state=1, max_iter=500).fit(x_train, y_train)\n",
        "regr.predict(x_test)\n",
        "\n"
      ],
      "metadata": {
        "colab": {
          "base_uri": "https://localhost:8080/"
        },
        "id": "HQzYO5aY3wbw",
        "outputId": "53429cc5-6c88-4497-87f7-ad09e0c83ad2"
      },
      "execution_count": 7,
      "outputs": [
        {
          "output_type": "stream",
          "name": "stderr",
          "text": [
            "/usr/local/lib/python3.7/dist-packages/sklearn/neural_network/_multilayer_perceptron.py:696: ConvergenceWarning: Stochastic Optimizer: Maximum iterations (500) reached and the optimization hasn't converged yet.\n",
            "  ConvergenceWarning,\n"
          ]
        },
        {
          "output_type": "execute_result",
          "data": {
            "text/plain": [
              "array([17.77055543, 23.10225526, 21.11501879, ..., 22.59267838,\n",
              "       38.53040432, 34.32962223])"
            ]
          },
          "metadata": {},
          "execution_count": 7
        }
      ]
    },
    {
      "cell_type": "code",
      "source": [
        "regr.score(x_test, y_test)"
      ],
      "metadata": {
        "colab": {
          "base_uri": "https://localhost:8080/"
        },
        "id": "UPK2hyqw-TYl",
        "outputId": "695a6018-0e7d-4850-9fa9-1fe3b1f91f84"
      },
      "execution_count": 8,
      "outputs": [
        {
          "output_type": "execute_result",
          "data": {
            "text/plain": [
              "0.699423478324218"
            ]
          },
          "metadata": {},
          "execution_count": 8
        }
      ]
    },
    {
      "cell_type": "code",
      "source": [
        "from sklearn.metrics import r2_score  # For find accuracy with R2 Score\n",
        "from sklearn.metrics import mean_squared_error  # For MSE\n",
        "from math import sqrt  # For squareroot operation\n",
        "\n",
        "y_pred_train = regr.predict(x_train)\n",
        "y_pred_test = regr.predict(x_test)\n",
        "\n",
        "accuracy_train = r2_score(y_train, y_pred_train)\n",
        "print(\"Training Accuracy for Neural Net: \", accuracy_train)\n",
        "\n",
        "accuracy_test = r2_score(y_test, y_pred_test)\n",
        "print(\"Testing Accuracy for Neural Net: \", accuracy_test)\n",
        "\n",
        "RMSE_train = sqrt(mean_squared_error(y_train, y_pred_train))\n",
        "print(\"RMSE for Training Data: \", RMSE_train)\n",
        "\n",
        "RMSE_test = sqrt(mean_squared_error(y_test, y_pred_test))\n",
        "print(\"RMSE for Testing Data: \", RMSE_test)"
      ],
      "metadata": {
        "colab": {
          "base_uri": "https://localhost:8080/"
        },
        "id": "QxwhPGsVG8Hl",
        "outputId": "7d2ab5c0-b0d8-4f14-cbdd-465bd45c9d18"
      },
      "execution_count": 9,
      "outputs": [
        {
          "output_type": "stream",
          "name": "stdout",
          "text": [
            "Training Accuracy for Neural Net:  0.7077905957790949\n",
            "Testing Accuracy for Neural Net:  0.699423478324218\n",
            "RMSE for Training Data:  5.743460076512108\n",
            "RMSE for Testing Data:  6.026141611331241\n"
          ]
        }
      ]
    }
  ]
}