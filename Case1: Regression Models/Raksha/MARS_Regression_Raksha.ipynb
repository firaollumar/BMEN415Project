{
  "nbformat": 4,
  "nbformat_minor": 0,
  "metadata": {
    "colab": {
      "name": "MARS_Regression_Raksha.ipynb",
      "provenance": [],
      "collapsed_sections": []
    },
    "kernelspec": {
      "name": "python3",
      "display_name": "Python 3"
    },
    "language_info": {
      "name": "python"
    }
  },
  "cells": [
    {
      "cell_type": "code",
      "execution_count": null,
      "metadata": {
        "colab": {
          "base_uri": "https://localhost:8080/"
        },
        "id": "ux14q6_fVjiR",
        "outputId": "e6c78ee8-b362-46ea-a133-c0f592ae58af"
      },
      "outputs": [
        {
          "output_type": "stream",
          "name": "stdout",
          "text": [
            "Collecting git+https://github.com/scikit-learn-contrib/py-earth@v0.2dev\n",
            "  Cloning https://github.com/scikit-learn-contrib/py-earth (to revision v0.2dev) to /tmp/pip-req-build-sn58_l7f\n",
            "  Running command git clone -q https://github.com/scikit-learn-contrib/py-earth /tmp/pip-req-build-sn58_l7f\n",
            "  Running command git checkout -b v0.2dev --track origin/v0.2dev\n",
            "  Switched to a new branch 'v0.2dev'\n",
            "  Branch 'v0.2dev' set up to track remote branch 'v0.2dev' from 'origin'.\n",
            "Requirement already satisfied: scipy>=0.16 in /usr/local/lib/python3.7/dist-packages (from sklearn-contrib-py-earth==0.1.0+16.g400f84d) (1.4.1)\n",
            "Requirement already satisfied: scikit-learn>=0.16 in /usr/local/lib/python3.7/dist-packages (from sklearn-contrib-py-earth==0.1.0+16.g400f84d) (1.0.2)\n",
            "Requirement already satisfied: six in /usr/local/lib/python3.7/dist-packages (from sklearn-contrib-py-earth==0.1.0+16.g400f84d) (1.15.0)\n",
            "Requirement already satisfied: threadpoolctl>=2.0.0 in /usr/local/lib/python3.7/dist-packages (from scikit-learn>=0.16->sklearn-contrib-py-earth==0.1.0+16.g400f84d) (3.1.0)\n",
            "Requirement already satisfied: numpy>=1.14.6 in /usr/local/lib/python3.7/dist-packages (from scikit-learn>=0.16->sklearn-contrib-py-earth==0.1.0+16.g400f84d) (1.21.5)\n",
            "Requirement already satisfied: joblib>=0.11 in /usr/local/lib/python3.7/dist-packages (from scikit-learn>=0.16->sklearn-contrib-py-earth==0.1.0+16.g400f84d) (1.1.0)\n",
            "Building wheels for collected packages: sklearn-contrib-py-earth\n",
            "  Building wheel for sklearn-contrib-py-earth (setup.py) ... \u001b[?25l\u001b[?25hdone\n",
            "  Created wheel for sklearn-contrib-py-earth: filename=sklearn_contrib_py_earth-0.1.0+16.g400f84d-cp37-cp37m-linux_x86_64.whl size=3997257 sha256=3f84444b363db780210ef59131344942115617c267097c72c154f4d57f8a1ddb\n",
            "  Stored in directory: /tmp/pip-ephem-wheel-cache-v4wbg828/wheels/79/d7/aa/1e418a9aea84424ef2ce2697ae7cccace322976388d3692e8e\n",
            "Successfully built sklearn-contrib-py-earth\n",
            "Installing collected packages: sklearn-contrib-py-earth\n",
            "Successfully installed sklearn-contrib-py-earth-0.1.0+16.g400f84d\n"
          ]
        }
      ],
      "source": [
        "pip install git+https://github.com/scikit-learn-contrib/py-earth@v0.2dev"
      ]
    },
    {
      "cell_type": "code",
      "source": [
        "import pandas as pd\n",
        "from numpy import mean\n",
        "import numpy as np\n",
        "from sklearn.model_selection import cross_val_score\n",
        "from sklearn.model_selection import train_test_split\n",
        "from sklearn.model_selection import RepeatedKFold\n",
        "from sklearn.datasets import make_regression\n",
        "from sklearn.metrics import accuracy_score\n",
        "from pyearth import Earth\n",
        "import matplotlib.pyplot as plt\n",
        "\n",
        "import os\n",
        "data = pd.read_csv(\"parkinsons_updrs.data.csv\")"
      ],
      "metadata": {
        "id": "S-z2CvvmikpR"
      },
      "execution_count": null,
      "outputs": []
    },
    {
      "cell_type": "code",
      "source": [
        "train, test = train_test_split(data, train_size=0.7, random_state=123)"
      ],
      "metadata": {
        "id": "6zPaWM4d3Oo1"
      },
      "execution_count": null,
      "outputs": []
    },
    {
      "cell_type": "code",
      "source": [
        "#create fake regression data\n",
        "X, y = make_regression(n_samples=5875, n_features=22, n_informative=15,\n",
        "                       noise=0.5, random_state=5)"
      ],
      "metadata": {
        "id": "jM3-PtRlgczf"
      },
      "execution_count": null,
      "outputs": []
    },
    {
      "cell_type": "code",
      "source": [
        "from sklearn.model_selection import train_test_split \n",
        "\n",
        "x_train, x_test, y_train, y_test = train_test_split(X, y, test_size=0.2, random_state=42)"
      ],
      "metadata": {
        "id": "FOocSMUPppKH"
      },
      "execution_count": null,
      "outputs": []
    },
    {
      "cell_type": "code",
      "source": [
        "from sklearn.model_selection import cross_val_predict  # For K-Fold Cross Validation\n",
        "from sklearn.metrics import r2_score  # For find accuracy with R2 Score\n",
        "from sklearn.metrics import mean_squared_error  # For MSE\n",
        "from math import sqrt  # For squareroot operation\n",
        "\n",
        "model = Earth(max_degree=2, penalty=1.0, minspan_alpha = 0.01, endspan_alpha = 0.01, endspan=5) #2nd degree formula is necessary to see interactions, penalty and alpha values for making model simple\n",
        "\n",
        "model.fit(x_train, y_train)\n",
        "model.score(x_train, y_train)\n",
        "\n",
        "y_pred_mars_train = model.predict(x_train)\n",
        "y_pred_mars_test = model.predict(x_test)\n",
        "\n",
        "accuracy_mars_train = r2_score(y_train, y_pred_mars_train)\n",
        "print(\"Training Accuracy for Multivariate Adaptive Regression Spline: \", accuracy_mars_train)\n",
        "\n",
        "accuracy_mars_test = r2_score(y_test, y_pred_mars_test)\n",
        "print(\"Testing Accuracy for Multivariate Adaptive Regression Spline: \", accuracy_mars_test)\n",
        "\n",
        "RMSE_mars_train = sqrt(mean_squared_error(y_train, y_pred_mars_train))\n",
        "print(\"RMSE for Training Data: \", RMSE_mars_train)\n",
        "\n",
        "RMSE_mars_test = sqrt(mean_squared_error(y_test, y_pred_mars_test))\n",
        "print(\"RMSE for Testing Data: \", RMSE_mars_test)"
      ],
      "metadata": {
        "colab": {
          "base_uri": "https://localhost:8080/"
        },
        "id": "xEt76wjixKG4",
        "outputId": "d54d35bd-3b7c-4028-9037-d9b6b6f6df37"
      },
      "execution_count": null,
      "outputs": [
        {
          "output_type": "stream",
          "name": "stdout",
          "text": [
            "Training Accuracy for Multivariate Adaptive Regression Spline:  0.9997382643327313\n",
            "Testing Accuracy for Multivariate Adaptive Regression Spline:  0.9997358656964946\n",
            "RMSE for Training Data:  3.0599831379322344\n",
            "RMSE for Testing Data:  3.0792135758150376\n"
          ]
        }
      ]
    },
    {
      "cell_type": "code",
      "source": [
        "plt.figure(figsize=(10,10))\n",
        "plt.scatter(y_test, y_pred_mars_test, c='crimson')\n",
        "plt.yscale('log')\n",
        "plt.xscale('log')\n",
        "\n",
        "p1 = max(max(y_pred_mars_test), max(y_test))\n",
        "p2 = min(min(y_pred_mars_test), min(y_test))\n",
        "plt.plot([p1, p2], [p1, p2], 'b-')\n",
        "plt.xlabel('True Values', fontsize=15)\n",
        "plt.ylabel('Predicted', fontsize=15)\n",
        "plt.title(\"Random Forest Regression: True Values vs Predicted \")\n",
        "plt.axis('equal')\n",
        "plt.show()"
      ],
      "metadata": {
        "colab": {
          "base_uri": "https://localhost:8080/",
          "height": 630
        },
        "id": "r9dyDoS8lBc8",
        "outputId": "6a13bb1c-3282-47f1-c431-9324711a975a"
      },
      "execution_count": null,
      "outputs": [
        {
          "output_type": "display_data",
          "data": {
            "text/plain": [
              "<Figure size 720x720 with 1 Axes>"
            ],
            "image/png": "[encoded data removed]"
          },
          "metadata": {
            "needs_background": "light"
          }
        }
      ]
    },
    {
      "cell_type": "code",
      "source": [
        ""
      ],
      "metadata": {
        "id": "o-nek13UEUcx"
      },
      "execution_count": null,
      "outputs": []
    }
  ]
}