{
 "cells": [
  {
   "cell_type": "code",
   "execution_count": 1,
   "metadata": {
    "executionInfo": {
     "elapsed": 355,
     "status": "ok",
     "timestamp": 1649103758593,
     "user": {
      "displayName": "Noel Thomas",
      "userId": "09316926446747603037"
     },
     "user_tz": 360
    },
    "id": "mXU30tdcKRnr"
   },
   "outputs": [],
   "source": [
    "import pandas as pd \n",
    "import numpy as np\n",
    "import matplotlib.pyplot as plt\n",
    "import seaborn as sns\n",
    "\n",
    "from sklearn.svm import SVR\n",
    "from sklearn.metrics import mean_squared_error \n",
    "\n",
    "from sklearn.metrics import r2_score\n",
    "\n",
    "from sklearn.model_selection import GridSearchCV #search for the optimal c and gamma values \n",
    "\n",
    "\n",
    "\n",
    "from sklearn.model_selection import train_test_split\n",
    "\n",
    "\n",
    "from sklearn.svm import SVR\n",
    "from sklearn.svm import SVC\n",
    "\n",
    "from sklearn.metrics import confusion_matrix\n",
    "\n",
    "from sklearn.model_selection import learning_curve   #expand on this in the write up \n"
   ]
  },
  {
   "cell_type": "code",
   "execution_count": 2,
   "metadata": {
    "executionInfo": {
     "elapsed": 7,
     "status": "ok",
     "timestamp": 1649103758874,
     "user": {
      "displayName": "Noel Thomas",
      "userId": "09316926446747603037"
     },
     "user_tz": 360
    },
    "id": "8KMgkAZpKcQw"
   },
   "outputs": [],
   "source": [
    "dataset=pd.read_csv('telemonitoring_parkinsons_updrs.data.csv')"
   ]
  },
  {
   "cell_type": "code",
   "execution_count": 3,
   "metadata": {
    "colab": {
     "base_uri": "https://localhost:8080/"
    },
    "executionInfo": {
     "elapsed": 6,
     "status": "ok",
     "timestamp": 1649103758874,
     "user": {
      "displayName": "Noel Thomas",
      "userId": "09316926446747603037"
     },
     "user_tz": 360
    },
    "id": "Jf_rOeggN5Vq",
    "outputId": "823c4c67-5325-40bb-8605-533dd423af31"
   },
   "outputs": [
    {
     "data": {
      "text/plain": [
       "Index(['subject#', 'age', 'sex', 'test_time', 'motor_UPDRS', 'total_UPDRS',\n",
       "       'Jitter(%)', 'Jitter(Abs)', 'Jitter:RAP', 'Jitter:PPQ5', 'Jitter:DDP',\n",
       "       'Shimmer', 'Shimmer(dB)', 'Shimmer:APQ3', 'Shimmer:APQ5',\n",
       "       'Shimmer:APQ11', 'Shimmer:DDA', 'NHR', 'HNR', 'RPDE', 'DFA', 'PPE'],\n",
       "      dtype='object')"
      ]
     },
     "execution_count": 3,
     "metadata": {},
     "output_type": "execute_result"
    }
   ],
   "source": [
    "dataset.columns\n"
   ]
  },
  {
   "cell_type": "code",
   "execution_count": 4,
   "metadata": {
    "colab": {
     "base_uri": "https://localhost:8080/",
     "height": 359
    },
    "executionInfo": {
     "elapsed": 493,
     "status": "ok",
     "timestamp": 1649103759362,
     "user": {
      "displayName": "Noel Thomas",
      "userId": "09316926446747603037"
     },
     "user_tz": 360
    },
    "id": "565LNlxhPMIw",
    "outputId": "89722585-5c3f-4b67-ca99-368668a671e3"
   },
   "outputs": [
    {
     "data": {
      "text/plain": [
       "<AxesSubplot:>"
      ]
     },
     "execution_count": 4,
     "metadata": {},
     "output_type": "execute_result"
    },
    {
     "data": {
      "image/png": "[encoded data removed]",
      "text/plain": [
       "<Figure size 432x288 with 2 Axes>"
      ]
     },
     "metadata": {
      "needs_background": "light"
     },
     "output_type": "display_data"
    }
   ],
   "source": [
    "sns.heatmap(dataset.corr( ), annot=False)"
   ]
  },
  {
   "cell_type": "code",
   "execution_count": 5,
   "metadata": {
    "executionInfo": {
     "elapsed": 294,
     "status": "ok",
     "timestamp": 1649103759652,
     "user": {
      "displayName": "Noel Thomas",
      "userId": "09316926446747603037"
     },
     "user_tz": 360
    },
    "id": "q1pCoj6NKeOj"
   },
   "outputs": [],
   "source": [
    "from sklearn.model_selection import train_test_split \n",
    "\n",
    "y=dataset['total_UPDRS']\n",
    "X=dataset.loc[:,dataset.columns!=\"total_UPDRS\"]"
   ]
  },
  {
   "cell_type": "code",
   "execution_count": 6,
   "metadata": {
    "executionInfo": {
     "elapsed": 8,
     "status": "ok",
     "timestamp": 1649103759652,
     "user": {
      "displayName": "Noel Thomas",
      "userId": "09316926446747603037"
     },
     "user_tz": 360
    },
    "id": "WSA9aIoTKmMl"
   },
   "outputs": [],
   "source": [
    "x_train,x_test,y_train,y_test = train_test_split(X,y,test_size=0.2, random_state=0)"
   ]
  },
  {
   "cell_type": "code",
   "execution_count": 7,
   "metadata": {
    "colab": {
     "base_uri": "https://localhost:8080/"
    },
    "executionInfo": {
     "elapsed": 9,
     "status": "ok",
     "timestamp": 1649103759653,
     "user": {
      "displayName": "Noel Thomas",
      "userId": "09316926446747603037"
     },
     "user_tz": 360
    },
    "id": "P3Xwl897PYmr",
    "outputId": "8629ec11-0530-44d1-8ba9-ae930efc9f82"
   },
   "outputs": [
    {
     "name": "stdout",
     "output_type": "stream",
     "text": [
      "598     40.840\n",
      "4511    28.322\n",
      "5284    39.408\n",
      "1431    19.000\n",
      "3582    28.155\n",
      "         ...  \n",
      "4931    31.818\n",
      "3264    17.581\n",
      "1653    23.122\n",
      "2607    26.002\n",
      "2732    16.559\n",
      "Name: total_UPDRS, Length: 4700, dtype: float64\n"
     ]
    }
   ],
   "source": [
    "print(y_train)"
   ]
  },
  {
   "cell_type": "code",
   "execution_count": 8,
   "metadata": {
    "colab": {
     "base_uri": "https://localhost:8080/"
    },
    "executionInfo": {
     "elapsed": 8,
     "status": "ok",
     "timestamp": 1649103759653,
     "user": {
      "displayName": "Noel Thomas",
      "userId": "09316926446747603037"
     },
     "user_tz": 360
    },
    "id": "z3C1Q0CZO2N8",
    "outputId": "bf293bea-955d-4d4b-c8c4-c64cbfd7d42b"
   },
   "outputs": [
    {
     "data": {
      "text/plain": [
       "DecisionTreeRegressor()"
      ]
     },
     "execution_count": 8,
     "metadata": {},
     "output_type": "execute_result"
    }
   ],
   "source": [
    "from sklearn import tree\n",
    "\n",
    "clf = tree.DecisionTreeRegressor()\n",
    "clf.fit(x_train, y_train)"
   ]
  },
  {
   "cell_type": "code",
   "execution_count": 9,
   "metadata": {
    "executionInfo": {
     "elapsed": 6,
     "status": "ok",
     "timestamp": 1649103759653,
     "user": {
      "displayName": "Noel Thomas",
      "userId": "09316926446747603037"
     },
     "user_tz": 360
    },
    "id": "e-3fJVzOKrSl"
   },
   "outputs": [],
   "source": [
    "# from sklearn.preprocessing import StandardScaler\n",
    "# sc = StandardScaler()\n",
    "# sc.fit(x_train)\n",
    "# x_train = sc.transform(x_train)\n",
    "# x_test = sc.transform(x_test)"
   ]
  },
  {
   "cell_type": "code",
   "execution_count": 10,
   "metadata": {
    "colab": {
     "base_uri": "https://localhost:8080/"
    },
    "executionInfo": {
     "elapsed": 5,
     "status": "ok",
     "timestamp": 1649103759653,
     "user": {
      "displayName": "Noel Thomas",
      "userId": "09316926446747603037"
     },
     "user_tz": 360
    },
    "id": "64LBb_qnKtjg",
    "outputId": "5ed74a60-46fa-4dda-d8d4-83424f8b39d4"
   },
   "outputs": [
    {
     "name": "stdout",
     "output_type": "stream",
     "text": [
      "Training Accuracy for CART R Model:  1.0\n",
      "Testing Accuracy for CART R Model:  0.9986489526861306\n",
      "RMSE for Training Data:  1.3069566266415186e-15\n",
      "RMSE for Testing Data:  0.38806357201289104\n"
     ]
    }
   ],
   "source": [
    "from sklearn.model_selection import cross_val_predict  # For K-Fold Cross Validation\n",
    "from sklearn.metrics import r2_score  # For find accuracy with R2 Score\n",
    "from sklearn.metrics import mean_squared_error  # For MSE\n",
    "from math import sqrt  # For squareroot operation\n",
    "\n",
    "\n",
    "\n",
    "y_pred_train = clf.predict(x_train)\n",
    "y_pred_test = clf.predict(x_test)\n",
    "\n",
    "accuracy_MLR_train = r2_score(y_train, y_pred_train)\n",
    "print(\"Training Accuracy for CART R Model: \", accuracy_MLR_train)\n",
    "\n",
    "accuracy_MLR_test = r2_score(y_test, y_pred_test)\n",
    "print(\"Testing Accuracy for CART R Model: \", accuracy_MLR_test)\n",
    "\n",
    "RMSE_MLR_train = sqrt(mean_squared_error(y_train, y_pred_train))\n",
    "print(\"RMSE for Training Data: \", RMSE_MLR_train)\n",
    "\n",
    "RMSE_MLR_test = sqrt(mean_squared_error(y_test, y_pred_test))\n",
    "print(\"RMSE for Testing Data: \", RMSE_MLR_test)"
   ]
  },
  {
   "cell_type": "code",
   "execution_count": 12,
   "metadata": {},
   "outputs": [],
   "source": [
    "predicted_value=y_pred_test\n",
    "true_value=y_test"
   ]
  },
  {
   "cell_type": "code",
   "execution_count": 14,
   "metadata": {},
   "outputs": [
    {
     "data": {
      "image/png": "[encoded data removed]",
      "text/plain": [
       "<Figure size 720x720 with 1 Axes>"
      ]
     },
     "metadata": {
      "needs_background": "light"
     },
     "output_type": "display_data"
    }
   ],
   "source": [
    "-"
   ]
  },
  {
   "cell_type": "code",
   "execution_count": null,
   "metadata": {},
   "outputs": [],
   "source": []
  }
 ],
 "metadata": {
  "colab": {
   "authorship_tag": "ABX9TyPd3s81JvIibrV41Gs2vIih",
   "name": "CART R - Noel.ipynb",
   "provenance": []
  },
  "kernelspec": {
   "display_name": "Python 3 (ipykernel)",
   "language": "python",
   "name": "python3"
  },
  "language_info": {
   "codemirror_mode": {
    "name": "ipython",
    "version": 3
   },
   "file_extension": ".py",
   "mimetype": "text/x-python",
   "name": "python",
   "nbconvert_exporter": "python",
   "pygments_lexer": "ipython3",
   "version": "3.9.7"
  }
 },
 "nbformat": 4,
 "nbformat_minor": 1
}
