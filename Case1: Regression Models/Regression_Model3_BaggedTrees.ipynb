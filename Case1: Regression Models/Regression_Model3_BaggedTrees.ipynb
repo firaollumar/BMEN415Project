{
  "nbformat": 4,
  "nbformat_minor": 0,
  "metadata": {
    "colab": {
      "name": "Regression_Model3_BaggedTrees.ipynb",
      "provenance": [],
      "collapsed_sections": []
    },
    "kernelspec": {
      "name": "python3",
      "display_name": "Python 3"
    },
    "language_info": {
      "name": "python"
    }
  },
  "cells": [
    {
      "cell_type": "code",
      "execution_count": 1,
      "metadata": {
        "id": "uDMhfXi8EKBn"
      },
      "outputs": [],
      "source": [
        "import numpy as np  # Importing NumPy library\n",
        "import pandas as pd  # Importing Pandas library\n",
        "import matplotlib.pyplot as plt  # Importing Matplotlib library's \"pyplot\" module\n",
        "import seaborn as sns  # Imorting Seaborn library\n",
        "\n",
        "import os"
      ]
    },
    {
      "cell_type": "code",
      "source": [
        "data = pd.read_csv(\"parkinsons_updrs.data.csv\")"
      ],
      "metadata": {
        "id": "YBTDEGYYFif_"
      },
      "execution_count": 2,
      "outputs": []
    },
    {
      "cell_type": "code",
      "source": [
        "data.drop([\"motor_UPDRS\"], axis=1, inplace=True)"
      ],
      "metadata": {
        "id": "g3or2lY2FkOl"
      },
      "execution_count": 3,
      "outputs": []
    },
    {
      "cell_type": "code",
      "source": [
        "X = data.drop([\"total_UPDRS\"], axis=1) \n",
        "y = data.total_UPDRS.values"
      ],
      "metadata": {
        "id": "9mCxLh82GRdP"
      },
      "execution_count": 4,
      "outputs": []
    },
    {
      "cell_type": "code",
      "source": [
        "from sklearn.ensemble import ExtraTreesRegressor\n",
        "from sklearn.feature_selection import SelectFromModel\n",
        "X.shape\n",
        "featsel = ExtraTreesRegressor(n_estimators=25) #might need to change this number\n",
        "featsel = featsel.fit(X, y)\n",
        "featsel.feature_importances_\n",
        "model = SelectFromModel(featsel, prefit=True)\n",
        "X_new = model.transform(X)\n",
        "X_new.shape"
      ],
      "metadata": {
        "colab": {
          "base_uri": "https://localhost:8080/"
        },
        "id": "3Wgl98Tr3jw5",
        "outputId": "ed080552-8716-4059-f056-b1713eaa4521"
      },
      "execution_count": 5,
      "outputs": [
        {
          "output_type": "stream",
          "name": "stderr",
          "text": [
            "/usr/local/lib/python3.7/dist-packages/sklearn/base.py:444: UserWarning: X has feature names, but SelectFromModel was fitted without feature names\n",
            "  f\"X has feature names, but {self.__class__.__name__} was fitted without\"\n"
          ]
        },
        {
          "output_type": "execute_result",
          "data": {
            "text/plain": [
              "(5875, 4)"
            ]
          },
          "metadata": {},
          "execution_count": 5
        }
      ]
    },
    {
      "cell_type": "code",
      "source": [
        "from sklearn.model_selection import train_test_split \n",
        "\n",
        "x_train, x_test, y_train, y_test = train_test_split(X_new, y, test_size=0.2, random_state=1)"
      ],
      "metadata": {
        "id": "P9djJkzLGTiC"
      },
      "execution_count": 6,
      "outputs": []
    },
    {
      "cell_type": "code",
      "source": [
        "from sklearn.ensemble import BaggingRegressor \n",
        "\n",
        "regr = BaggingRegressor(n_estimators=20, random_state=1) #Using DecisionTreeRegressor\n",
        "#increase maximum samples from max_samples it increases the accuract (# of bootstrap feature)\n",
        "regr.fit(x_train, y_train)"
      ],
      "metadata": {
        "colab": {
          "base_uri": "https://localhost:8080/"
        },
        "id": "j8F0_QNJvijq",
        "outputId": "e9bf8dd6-b0c9-4a7c-a009-1a6c78b24009"
      },
      "execution_count": 7,
      "outputs": [
        {
          "output_type": "execute_result",
          "data": {
            "text/plain": [
              "BaggingRegressor(n_estimators=20, random_state=1)"
            ]
          },
          "metadata": {},
          "execution_count": 7
        }
      ]
    },
    {
      "cell_type": "code",
      "source": [
        "from sklearn.datasets import make_regression\n",
        "from math import sqrt  # For squareroot operation\n",
        "from sklearn.metrics import mean_squared_error  # For MSE\n",
        "from sklearn.metrics import r2_score  # For find accuracy with R2 Score\n",
        "\n",
        "y_pred_bagged_train = regr.predict(x_train)\n",
        "y_pred_bagged_test = regr.predict(x_test)\n",
        "\n",
        "r2_bagged_train = r2_score(y_train, y_pred_bagged_train)\n",
        "#tree.plot_true(btree)\n",
        "\n",
        "print(\"Training R^2 for Bagged Trees Model: \", r2_bagged_train)\n",
        "\n",
        "r2_bagged_test = r2_score(y_test, y_pred_bagged_test)\n",
        "print(\"Testing R^2 for Bagged Trees Model: \", r2_bagged_test)\n",
        "\n",
        "RMSE_bagged_train = sqrt(mean_squared_error(y_train, y_pred_bagged_train))\n",
        "print(\"RMSE for Training Data: \", RMSE_bagged_train)\n",
        "\n",
        "RMSE_bagged_test = sqrt(mean_squared_error(y_test, y_pred_bagged_test))\n",
        "print(\"RMSE for Testing Data: \", RMSE_bagged_test)"
      ],
      "metadata": {
        "colab": {
          "base_uri": "https://localhost:8080/"
        },
        "id": "CVNAv2xFGkaA",
        "outputId": "8db8f0b3-e374-4cdb-b85e-298cf568e7a7"
      },
      "execution_count": 8,
      "outputs": [
        {
          "output_type": "stream",
          "name": "stdout",
          "text": [
            "Training R^2 for Bagged Trees Model:  0.9999830729306347\n",
            "Testing R^2 for Bagged Trees Model:  0.99993427427242\n",
            "RMSE for Training Data:  0.04371368305837271\n",
            "RMSE for Testing Data:  0.08911062858097671\n"
          ]
        }
      ]
    },
    {
      "cell_type": "code",
      "source": [
        ""
      ],
      "metadata": {
        "id": "RkJf3Py3Io7x"
      },
      "execution_count": 8,
      "outputs": []
    }
  ]
}